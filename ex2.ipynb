{
 "cells": [
  {
   "cell_type": "markdown",
   "id": "ca29e75f",
   "metadata": {},
   "source": [
    "\n",
    "2. Na criptografia pós-quântica os reticulados inteiros (“hard lattices”) e os problemas a eles associados são uma componente essencial. Um reticulado inteiro pode ser definido por uma matriz $$\\;\\mathsf{L} \\in \\mathbb{Z}^{m\\times n}\\;$$ (com $$\\;m > n\\;$$) de inteiros e por um inteiro primo $$\\;q\\geq 3\\;$$.\n",
    "\n",
    "\n",
    "    O chamado problema do vetor curto  (SVP) consiste  no cálculo de um vetor de inteiros\n",
    "    \n",
    "                                                   $$\\;e\\in \\{-1,0,1\\}^m\\;$$\n",
    "                                                   \n",
    "    não nulo que  verifique a seguinte relação matricial\n",
    "                                         $$\\forall\\,i < n\\,\\centerdot\\,$$         $$\\sum_{j< m}\\,e_j\\,\\times\\,\\mathsf{L}_{j,i}\\;\\equiv\\;0\\mod q$$\n",
    "\n",
    "\n",
    "    1. Pretende-se resolver o SVP por programação inteira dentro das seguintes condições\n",
    "        1. Os valores  $$\\,m\\,,\\,n\\,,\\,q\\,$$  são escolhidos com $$\\,n > 30\\,$$, $$\\,|m| > 1 + |n|\\;$$ e $$\\,|q| > |m|\\,$$. \n",
    "        2. Os elementos $$\\;\\mathsf{L}_{j,i}\\;$$ são gerados aleatória e uniformemente no intervalo inteiro $$\\,\\{-d \\cdots d\\}$$ sendo  $$\\;d\\equiv (q-1)/2\\;$$.\n",
    "    2. Pretende-se determinar em, em primeiro lugar, se existe um vetor $$\\,e\\,$$ não nulo (pelo menos um dos $$\\,e_j\\,$$é diferente de zero). Se existir $$\\,e\\,$$ pretende-se calcular o vetor que minimiza o número de componentes não nulas.\n",
    "\n",
    "Notas                  \n",
    "\n",
    "    - Se $$\\;x \\ge 0\\;$$, representa-se por $$\\,|x|\\,$$ o tamanho de $$\\,x\\,$$ em bits:  o menor $$\\,\\ell\\,$$ tal que $$\\,x < 2^\\ell$$ .\n",
    "    \n",
    "    - Um inteiro $$\\;x\\;$$ verifica $$\\;x \\equiv 0 \\mod q\\;$$  sse $$\\;x\\;$$ é um múltiplo de $$\\,q\\,$$.\n",
    "                          $$x \\equiv 0 \\mod q \\;\\quad \\text{sse}\\quad\\; \\exists\\,k\\in \\mathbb{Z}\\,\\centerdot\\, x \\,=\\,q\\times k$$.\n",
    "    \n",
    "        Por isso, escrito de forma matricial, as relações que  determinam o vetor $$\\;e\\neq 0\\;$$ são\n",
    "        \n",
    "                         $$\\left\\{\\begin{array}{rcl}\\exists\\,e\\in \\{-1,0,1\\}^m\\,\\centerdot\\,\\exists\\,k\\in \\mathbb{Z}^n &\\centerdot & e\\times \\mathsf{L} \\;=\\; q\\,k \\\\ \\exists\\,i < n &\\centerdot & e_i \\,\\neq\\, 0 \\end{array}\\right.$$"
   ]
  },
  {
   "cell_type": "code",
   "execution_count": 10,
   "id": "d042211f",
   "metadata": {},
   "outputs": [],
   "source": [
    "#restrições = abs(m) >1+abs(n) and abs(q)>abs(m)\n",
    "#d ≡ (q-1)/2 <=> a = kn+b\n",
    "\n",
    "#objetivo -> se é possível um vetor não nulo (sum(vetor)>0), caso exista \n",
    "#minimizar o numero de elementos nulos"
   ]
  },
  {
   "cell_type": "code",
   "execution_count": 9,
   "id": "6ec88edf",
   "metadata": {},
   "outputs": [],
   "source": [
    "from ortools.sat.python import cp_model\n",
    "import random\n",
    "model = cp_model.CpModel()\n",
    "M,N,Q = 3,1,4\n",
    "\n",
    "#construção da matriz de reticulado\n",
    "L={}\n",
    "for m in range(M):\n",
    "    L[m]={}\n",
    "    for n in range(N):\n",
    "        L[m,n]=model.NewIntVar()\n"
   ]
  },
  {
   "cell_type": "code",
   "execution_count": null,
   "id": "b9e7e977",
   "metadata": {},
   "outputs": [],
   "source": []
  }
 ],
 "metadata": {
  "kernelspec": {
   "display_name": "Python 3 (ipykernel)",
   "language": "python",
   "name": "python3"
  },
  "language_info": {
   "codemirror_mode": {
    "name": "ipython",
    "version": 3
   },
   "file_extension": ".py",
   "mimetype": "text/x-python",
   "name": "python",
   "nbconvert_exporter": "python",
   "pygments_lexer": "ipython3",
   "version": "3.9.12"
  }
 },
 "nbformat": 4,
 "nbformat_minor": 5
}
