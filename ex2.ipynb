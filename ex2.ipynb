{
 "cells": [
  {
   "cell_type": "markdown",
   "id": "ca29e75f",
   "metadata": {},
   "source": [
    "2. Na criptografia pós-quântica os reticulados inteiros (“hard lattices”) e os problemas a eles associados são uma componente essencial. Um reticulado inteiro pode ser definido por uma matriz $$;\\mathsf{L} \\in \\mathbb{Z}^{m\\times n};$$ (com $;m > n;$) de inteiros e por um inteiro primo $;q\\geq 3;$.\n",
    "\n",
    "\n",
    "O chamado problema do vetor curto  (SVP) consiste  no cálculo de um vetor de inteiros $$;e\\in {-1,0,1}^m;$$ não nulo que  verifique a seguinte relação matricial $$\\forall,i < n,\\centerdot,$$ $$\\sum_{j<m},ej,\\times,\\mathsf{L}{j,i};\\equiv;0\\mod q$$\n",
    "\n",
    "\n",
    "a. Pretende-se resolver o SVP por programação inteira dentro das seguintes condições\n",
    "\n",
    "i. Os valores  $,m,,,n,,,q,$ são escolhidos com $,n > 30,$, $,|m| > 1 + |n|;$ e $,|q| > |m|,$. \n",
    "\n",
    "ii. Os elementos $;\\mathsf{L}_{j,i};$ são gerados aleatória e uniformemente no intervalo inteiro $,{-d \\cdots d}$ sendo $$;d\\equiv (q-1)/2;$$\n",
    "\n",
    "b. Pretende-se determinar em, em primeiro lugar, se existe um vetor $,e,$ não nulo (pelo menos um dos $,e_j,$ é diferente de zero). Se existir $,e,$ pretende-se calcular o vetor que minimiza o número de componentes não nulas."
   ]
  },
  {
   "cell_type": "code",
   "execution_count": 5,
   "id": "d042211f",
   "metadata": {},
   "outputs": [],
   "source": [
    "#restrições = abs(m) >1+abs(n) and abs(q)>abs(m)\n",
    "#d ≡ (q-1)/2 <=> a = kn+b\n",
    "\n",
    "#objetivo -> se é possível um vetor não nulo (sum(vetor)>0), caso exista \n",
    "#minimizar o numero de elementos nulos"
   ]
  },
  {
   "cell_type": "code",
   "execution_count": 8,
   "id": "adbbdbee",
   "metadata": {},
   "outputs": [],
   "source": [
    "from ortools.sat.python import cp_model\n",
    "from random import randint\n",
    "from math   import floor, log\n",
    "# from gmpy2  import next_prime\n",
    "\n",
    "model = cp_model.CpModel()"
   ]
  },
  {
   "cell_type": "code",
   "execution_count": 10,
   "id": "6ec88edf",
   "metadata": {},
   "outputs": [
    {
     "name": "stdout",
     "output_type": "stream",
     "text": [
      "{(0, 0): 3, (1, 0): 2, (2, 0): -1}\n"
     ]
    }
   ],
   "source": [
    "m = 3\n",
    "n = 1\n",
    "q = 4\n",
    "d = (q - 1)/2\n",
    "\n",
    "#construção da matriz de reticulado\n",
    "L={}\n",
    "for j in range(m):\n",
    "    for i in range(n):\n",
    "        L[j,i] = randint(-d, d+1)\n",
    "        \n",
    "print(L)\n",
    "        \n",
    "# Vetor de alocação\n",
    "e = [model.NewIntVar(-1, 1, f\"e[{j}]\") for j in range(m)]"
   ]
  },
  {
   "cell_type": "code",
   "execution_count": 2,
   "id": "b9e7e977",
   "metadata": {},
   "outputs": [],
   "source": [
    "#restrições\n",
    "\n"
   ]
  },
  {
   "cell_type": "code",
   "execution_count": null,
   "id": "366ed25c",
   "metadata": {},
   "outputs": [],
   "source": []
  }
 ],
 "metadata": {
  "kernelspec": {
   "display_name": "Python 3 (ipykernel)",
   "language": "python",
   "name": "python3"
  },
  "language_info": {
   "codemirror_mode": {
    "name": "ipython",
    "version": 3
   },
   "file_extension": ".py",
   "mimetype": "text/x-python",
   "name": "python",
   "nbconvert_exporter": "python",
   "pygments_lexer": "ipython3",
   "version": "3.9.12"
  }
 },
 "nbformat": 4,
 "nbformat_minor": 5
}
