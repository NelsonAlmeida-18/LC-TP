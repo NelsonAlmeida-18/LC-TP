{
 "cells": [
  {
   "cell_type": "code",
   "execution_count": 1,
   "id": "9ed55705",
   "metadata": {},
   "outputs": [
    {
     "name": "stdout",
     "output_type": "stream",
     "text": [
      "e: -1  0  1  1  1  1  1 \n",
      "u:  1  0  1  1  1  1  1 \n"
     ]
    }
   ],
   "source": [
    "from ortools.linear_solver import pywraplp\n",
    "import random\n",
    "solver = pywraplp.Solver.CreateSolver('SCIP')\n",
    "\n",
    "n = 2\n",
    "m = 7\n",
    "q = 13\n",
    "d = (q - 1) // 2\n",
    "\n",
    "L = {}\n",
    "for j in range(m):\n",
    "\tfor i in range(n):\n",
    "\t\tL[j,i] = random.randint(-d, d+1)\n",
    "\n",
    "\n",
    "# Vetor de alocação\n",
    "e = [ solver.IntVar(-1, 1, f\"e[{j}]\") for j in range(m) ]\n",
    "\n",
    "# restrições\n",
    "for i in range(n):\n",
    "\tK = solver.IntVar(0, q, f'K[{i}]')\n",
    "\tsolver.Add(sum(e[j] * L[j, i] for j in range(m)) == q * K)\n",
    "\n",
    "\n",
    "# implementação do boolean cast\n",
    "# https://cs.stackexchange.com/a/51089\n",
    "u = [ solver.BoolVar(f'u[{j}]') for j in range(m) ]\n",
    "\n",
    "for j in range(m):\n",
    "\tdelta = solver.BoolVar(f'delta[{j}]')\n",
    "\tsolver.Add(u[j] - 2 * delta <= e[j])\n",
    "\tsolver.Add(e[j] <= -u[j] + 2 * (1 - delta))\n",
    "\n",
    "solver.Add(sum(u[j] for j in range(m)) >= 1)\n",
    "\n",
    "\n",
    "# minimizar o número de componentes nulas\n",
    "# i.e. maximizar o número de componentes não nulas\n",
    "solver.Maximize(sum(u[j] for j in range(m)))\n",
    "\n",
    "\n",
    "status = solver.Solve()\n",
    "if status == pywraplp.Solver.OPTIMAL:\n",
    "\tprint(\"e: \", end=\"\")\n",
    "\tfor j in range(m):\n",
    "\t\tprint(f'{int(e[j].solution_value()):2}', end=' ')\n",
    "\tprint()\n",
    "\n",
    "\tprint(\"u: \", end=\"\")\n",
    "\tfor j in range(m):\n",
    "\t\tprint(f'{int(u[j].solution_value()):2}', end=' ')\n",
    "\tprint()\n",
    "\n",
    "\n",
    "else:\n",
    "\tprint(\"unsat\")\n",
    "\n"
   ]
  },
  {
   "cell_type": "code",
   "execution_count": null,
   "id": "c3fd1b3a",
   "metadata": {},
   "outputs": [],
   "source": []
  }
 ],
 "metadata": {
  "kernelspec": {
   "display_name": "Python 3 (ipykernel)",
   "language": "python",
   "name": "python3"
  },
  "language_info": {
   "codemirror_mode": {
    "name": "ipython",
    "version": 3
   },
   "file_extension": ".py",
   "mimetype": "text/x-python",
   "name": "python",
   "nbconvert_exporter": "python",
   "pygments_lexer": "ipython3",
   "version": "3.9.12"
  }
 },
 "nbformat": 4,
 "nbformat_minor": 5
}
