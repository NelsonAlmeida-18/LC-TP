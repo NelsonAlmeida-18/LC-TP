{
 "cells": [
  {
   "cell_type": "markdown",
   "id": "0a585897",
   "metadata": {},
   "source": [
    "# TP1 - Problema 2"
   ]
  },
  {
   "cell_type": "markdown",
   "id": "f1024043",
   "metadata": {},
   "source": [
    "### Grupo 11\n",
    "\n",
    "Nelson Almeida a95652\n",
    "<br>\n",
    "Nuno Costa a97610"
   ]
  },
  {
   "cell_type": "markdown",
   "id": "e46a46fb",
   "metadata": {},
   "source": [
    "#### Problema 2\n",
    "\n",
    "Na criptografia pós-quântica os reticulados inteiros (“hard lattices”) e os problemas a eles associados são uma componente essencial. Um reticulado inteiro pode ser definido por uma matriz $\\;\\mathsf{L} \\in \\mathbb{Z}^{m\\times n}\\;$ (com $\\;m > n\\;$) de inteiros e por um inteiro primo $\\;q\\geq 3\\;$.\n",
    "\n",
    "\n",
    "O chamado problema do vetor curto  (SVP) consiste  no cálculo de um vetor de inteiros\n",
    "                                                   $$\\;e\\in \\{-1,0,1\\}^m\\;$$\n",
    "não nulo que  verifique a seguinte relação matricial\n",
    "                                         $$\n",
    "                                         \\forall\\,i < n\\,\\centerdot\\,\\sum_{j< m}\\,e_j\\,\\times\\,\\mathsf{L}_{j,i}\\;\\equiv\\;0\\mod q\n",
    "                                         $$\n",
    "\n",
    "\n",
    "a) Pretende-se resolver o SVP por programação inteira dentro das seguintes condições\n",
    "\n",
    "1. Os valores  $\\,m\\,,\\,n\\,,\\,q\\,$  são escolhidos com $\\,n > 30\\,$, $\\,|m| > 1 + |n|\\;$ e $\\,|q| > |m|\\,$. \n",
    "\n",
    "2. Os elementos $\\;\\mathsf{L}_{j,i}\\;$ são gerados aleatória e uniformemente no intervalo inteiro $\\,\\{-d \\cdots d\\}$ sendo $\\;d\\equiv (q-1)/2\\;$.\n",
    "\n",
    "b) Pretende-se determinar em, em primeiro lugar, se existe um vetor $\\,e\\,$ não nulo (pelo menos um dos $\\,e_j\\,$ é diferente de zero). Se existir $\\,e\\,$ pretende-se calcular o vetor que minimiza o número de componentes não nulas.\n",
    "\n",
    "Notas:                \n",
    "\n",
    "- Se $\\;x \\ge 0\\;$, representa-se por $\\,|x|\\,$ o tamanho de $\\,x\\,$ em bits:  o menor $\\,\\ell\\,$ tal que $\\,x < 2^\\ell$.\n",
    "    \n",
    "- Um inteiro $\\;x\\;$ verifica $\\;x \\equiv 0 \\mod q\\;$  sse $\\;x\\;$ é um múltiplo de $\\,q\\,$. \n",
    "$$x \\equiv 0 \\mod q \\;\\quad \\text{sse}\\quad\\; \\exists\\,k\\in \\mathbb{Z}\\,\\centerdot\\, x \\,=\\,q\\times k$$\n",
    "    \n",
    "Por isso, escrito de forma matricial, as relações que  determinam o vetor $\\;e\\neq 0\\;$ são\n",
    "        \n",
    "$$\\left\\{\\begin{array}{rcl}\\exists\\,e\\in \\{-1,0,1\\}^m\\,\\centerdot\\,\\exists\\,k\\in \\mathbb{Z}^n &\\centerdot & e\\times \\mathsf{L} \\;=\\; q\\,k \\\\ \\exists\\,i < n &\\centerdot & e_i \\,\\neq\\, 0 \\end{array}\\right.$$\n"
   ]
  },
  {
   "cell_type": "code",
   "execution_count": 85,
   "id": "1e3dd2d3",
   "metadata": {},
   "outputs": [],
   "source": [
    "from ortools.sat.python import cp_model\n",
    "import random\n",
    "\n",
    "model = cp_model.CpModel()\n",
    "\n",
    "# Inputs\n",
    "n = 4\n",
    "m = 16\n",
    "q = 32\n",
    "d = (q - 1) // 2"
   ]
  },
  {
   "cell_type": "code",
   "execution_count": 86,
   "id": "b82b2904",
   "metadata": {},
   "outputs": [],
   "source": [
    "# Inicialização da matriz\n",
    "L = {}\n",
    "for j in range(m):\n",
    "    for i in range(n):\n",
    "        L[j,i] = random.randint(-d, d+1)\n",
    "        \n",
    "# Vetor de alocação\n",
    "e = [model.NewIntVar(-1, 1, f\"e[{j}]\") for j in range(m) ]"
   ]
  },
  {
   "cell_type": "markdown",
   "id": "8581cf40",
   "metadata": {},
   "source": [
    "Passamos agora à modelação das restrições e à sua introdução no *model*.\n",
    "\n",
    "A restrição\n",
    "\n",
    "1. Verficar que o vetor não é nulo."
   ]
  },
  {
   "cell_type": "code",
   "execution_count": 98,
   "id": "249e98e7",
   "metadata": {},
   "outputs": [
    {
     "ename": "NotImplementedError",
     "evalue": "calling abs() on a linear expression is not supported, please use CpModel.AddAbsEquality",
     "output_type": "error",
     "traceback": [
      "\u001b[0;31m---------------------------------------------------------------------------\u001b[0m",
      "\u001b[0;31mNotImplementedError\u001b[0m                       Traceback (most recent call last)",
      "Input \u001b[0;32mIn [98]\u001b[0m, in \u001b[0;36m<cell line: 11>\u001b[0;34m()\u001b[0m\n\u001b[1;32m     10\u001b[0m k \u001b[38;5;241m=\u001b[39m [model\u001b[38;5;241m.\u001b[39mNewIntVar(\u001b[38;5;241m0\u001b[39m, \u001b[38;5;241m1\u001b[39m, \u001b[38;5;124mf\u001b[39m\u001b[38;5;124m'\u001b[39m\u001b[38;5;124mU[\u001b[39m\u001b[38;5;132;01m{\u001b[39;00mj\u001b[38;5;132;01m}\u001b[39;00m\u001b[38;5;124m]\u001b[39m\u001b[38;5;124m'\u001b[39m) \u001b[38;5;28;01mfor\u001b[39;00m j \u001b[38;5;129;01min\u001b[39;00m \u001b[38;5;28mrange\u001b[39m(m) ]\n\u001b[1;32m     11\u001b[0m \u001b[38;5;28;01mfor\u001b[39;00m j \u001b[38;5;129;01min\u001b[39;00m \u001b[38;5;28mrange\u001b[39m(m):\n\u001b[0;32m---> 12\u001b[0m     model\u001b[38;5;241m.\u001b[39mAdd(\u001b[38;5;28;43mabs\u001b[39;49m\u001b[43m(\u001b[49m\u001b[43me\u001b[49m\u001b[43m[\u001b[49m\u001b[43mj\u001b[49m\u001b[43m]\u001b[49m\u001b[43m)\u001b[49m\u001b[38;5;241m==\u001b[39m\u001b[38;5;241m1\u001b[39m)\n\u001b[1;32m     16\u001b[0m model\u001b[38;5;241m.\u001b[39mAdd(\u001b[38;5;28msum\u001b[39m(u)\u001b[38;5;241m>\u001b[39m\u001b[38;5;241m0\u001b[39m)\n\u001b[1;32m     18\u001b[0m \u001b[38;5;28;01mfor\u001b[39;00m i \u001b[38;5;129;01min\u001b[39;00m \u001b[38;5;28mrange\u001b[39m(n):\n",
      "File \u001b[0;32m~/opt/anaconda3/lib/python3.9/site-packages/ortools/sat/python/cp_model.py:317\u001b[0m, in \u001b[0;36mLinearExpr.__abs__\u001b[0;34m(self)\u001b[0m\n\u001b[1;32m    316\u001b[0m \u001b[38;5;28;01mdef\u001b[39;00m \u001b[38;5;21m__abs__\u001b[39m(\u001b[38;5;28mself\u001b[39m):\n\u001b[0;32m--> 317\u001b[0m     \u001b[38;5;28;01mraise\u001b[39;00m \u001b[38;5;167;01mNotImplementedError\u001b[39;00m(\n\u001b[1;32m    318\u001b[0m         \u001b[38;5;124m'\u001b[39m\u001b[38;5;124mcalling abs() on a linear expression is not supported, \u001b[39m\u001b[38;5;124m'\u001b[39m\n\u001b[1;32m    319\u001b[0m         \u001b[38;5;124m'\u001b[39m\u001b[38;5;124mplease use CpModel.AddAbsEquality\u001b[39m\u001b[38;5;124m'\u001b[39m)\n",
      "\u001b[0;31mNotImplementedError\u001b[0m: calling abs() on a linear expression is not supported, please use CpModel.AddAbsEquality"
     ]
    }
   ],
   "source": [
    "# Verificar se existe não nulos\n",
    "model.Add(sum(e[j] for j in range(m)) != 0)\n",
    "\n",
    "#vetor auxiliar onde serão guardados os valores presentes no vetor e transformados com a função módulo\n",
    "u = [model.NewIntVar(0, 1, f'U[{j}]') for j in range(m) ]\n",
    "for j in range(m):\n",
    "    model.AddAbsEquality(u[j], e[j])\n",
    "\n",
    "#Visto o vetor u ter o módulo do vetor e, caso o somatório do mesmo originine um valor diferente de \n",
    "model.Add(sum(u)>0)\n",
    "\n",
    "for i in range(n):\n",
    "    K = model.NewIntVar(-20, 20, f'K[{i}]')\n",
    "    model.Add(sum(e[j] * L[j, i] for j in range(m)) == q * K)"
   ]
  },
  {
   "cell_type": "markdown",
   "id": "88305e8e",
   "metadata": {},
   "source": [
    "Minimizar o número de componentes não nulas do vetor e"
   ]
  },
  {
   "cell_type": "code",
   "execution_count": 97,
   "id": "1faac8d9",
   "metadata": {},
   "outputs": [],
   "source": [
    "#o vetor u tem apenas valores positivos, visto ser gerado através do módulo de cada elemento do vetor e,\n",
    "#e por isso para minimizar o número de componentes não nulas\n",
    "#teremos de minimizar o valor originado pela soma de todos os elementos de u\n",
    "model.Minimize(sum(u))"
   ]
  },
  {
   "cell_type": "code",
   "execution_count": 94,
   "id": "8b2a969e",
   "metadata": {},
   "outputs": [
    {
     "name": "stdout",
     "output_type": "stream",
     "text": [
      "0 0 0 0 0 -1 0 0 0 0 1 0 -1 0 1 -1 "
     ]
    }
   ],
   "source": [
    "solver = cp_model.CpSolver()\n",
    "status = solver.Solve(model)\n",
    "if status == cp_model.OPTIMAL or status == cp_model.FEASIBLE:\n",
    "    for j in range(m):\n",
    "        print(solver.Value(e[j]), end=' ')\n",
    "else:\n",
    "    print(\"not found\")"
   ]
  }
 ],
 "metadata": {
  "kernelspec": {
   "display_name": "Python 3 (ipykernel)",
   "language": "python",
   "name": "python3"
  },
  "language_info": {
   "codemirror_mode": {
    "name": "ipython",
    "version": 3
   },
   "file_extension": ".py",
   "mimetype": "text/x-python",
   "name": "python",
   "nbconvert_exporter": "python",
   "pygments_lexer": "ipython3",
   "version": "3.9.12"
  }
 },
 "nbformat": 4,
 "nbformat_minor": 5
}
