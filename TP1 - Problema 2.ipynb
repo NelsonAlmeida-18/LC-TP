{
 "cells": [
  {
   "cell_type": "markdown",
   "id": "0a585897",
   "metadata": {},
   "source": [
    "# TP1 - Problema 2"
   ]
  },
  {
   "cell_type": "markdown",
   "id": "f1024043",
   "metadata": {},
   "source": [
    "### Grupo 11\n",
    "\n",
    "Nelson Almeida a95652\n",
    "<br>\n",
    "Nuno Costa a97610"
   ]
  },
  {
   "cell_type": "markdown",
   "id": "e46a46fb",
   "metadata": {},
   "source": [
    "#### Problema 2\n",
    "\n",
    "Na criptografia pós-quântica os reticulados inteiros (“hard lattices”) e os problemas a eles associados são uma componente essencial. Um reticulado inteiro pode ser definido por uma matriz $\\;\\mathsf{L} \\in \\mathbb{Z}^{m\\times n}\\;$ (com $\\;m > n\\;$) de inteiros e por um inteiro primo $\\;q\\geq 3\\;$.\n",
    "\n",
    "\n",
    "O chamado problema do vetor curto  (SVP) consiste  no cálculo de um vetor de inteiros\n",
    "                                                   $$\\;e\\in \\{-1,0,1\\}^m\\;$$\n",
    "não nulo que  verifique a seguinte relação matricial\n",
    "                                         $$\n",
    "                                         \\forall\\,i < n\\,\\centerdot\\,\\sum_{j< m}\\,e_j\\,\\times\\,\\mathsf{L}_{j,i}\\;\\equiv\\;0\\mod q\n",
    "                                         $$\n",
    "\n",
    "\n",
    "a) Pretende-se resolver o SVP por programação inteira dentro das seguintes condições\n",
    "\n",
    "1. Os valores  $\\,m\\,,\\,n\\,,\\,q\\,$  são escolhidos com $\\,n > 30\\,$, $\\,|m| > 1 + |n|\\;$ e $\\,|q| > |m|\\,$. \n",
    "\n",
    "2. Os elementos $\\;\\mathsf{L}_{j,i}\\;$ são gerados aleatória e uniformemente no intervalo inteiro $\\,\\{-d \\cdots d\\}$ sendo $\\;d\\equiv (q-1)/2\\;$.\n",
    "\n",
    "b) Pretende-se determinar em, em primeiro lugar, se existe um vetor $\\,e\\,$ não nulo (pelo menos um dos $\\,e_j\\,$ é diferente de zero). Se existir $\\,e\\,$ pretende-se calcular o vetor que minimiza o número de componentes não nulas.\n",
    "\n",
    "Notas:                \n",
    "\n",
    "- Se $\\;x \\ge 0\\;$, representa-se por $\\,|x|\\,$ o tamanho de $\\,x\\,$ em bits:  o menor $\\,\\ell\\,$ tal que $\\,x < 2^\\ell$.\n",
    "    \n",
    "- Um inteiro $\\;x\\;$ verifica $\\;x \\equiv 0 \\mod q\\;$  sse $\\;x\\;$ é um múltiplo de $\\,q\\,$. \n",
    "$$x \\equiv 0 \\mod q \\;\\quad \\text{sse}\\quad\\; \\exists\\,k\\in \\mathbb{Z}\\,\\centerdot\\, x \\,=\\,q\\times k$$\n",
    "    \n",
    "Por isso, escrito de forma matricial, as relações que  determinam o vetor $\\;e\\neq 0\\;$ são\n",
    "        \n",
    "$$\\left\\{\\begin{array}{rcl}\\exists\\,e\\in \\{-1,0,1\\}^m\\,\\centerdot\\,\\exists\\,k\\in \\mathbb{Z}^n &\\centerdot & e\\times \\mathsf{L} \\;=\\; q\\,k \\\\ \\exists\\,i < n &\\centerdot & e_i \\,\\neq\\, 0 \\end{array}\\right.$$\n"
   ]
  },
  {
   "cell_type": "code",
   "execution_count": 35,
   "id": "1e3dd2d3",
   "metadata": {},
   "outputs": [],
   "source": [
    "from ortools.sat.python import cp_model\n",
    "from random import randint \n",
    "\n",
    "model = cp_model.CpModel()\n",
    "\n",
    "# Inputs\n",
    "n = 2\n",
    "m = 7\n",
    "q = 13\n",
    "d = (q - 1) / 2"
   ]
  },
  {
   "cell_type": "code",
   "execution_count": 44,
   "id": "b82b2904",
   "metadata": {},
   "outputs": [],
   "source": [
    "# Inicialização da matriz\n",
    "L = {}\n",
    "for j in range(m):\n",
    "    for i in range(n):\n",
    "        L[j,i] = random.randint(-d, d+1)\n",
    "        \n",
    "# Vetor de alocação\n",
    "e = [ model.NewIntVar(-1, 1, f\"e[{j}]\") for j in range(m) ]"
   ]
  },
  {
   "cell_type": "markdown",
   "id": "8581cf40",
   "metadata": {},
   "source": [
    "Passamos agora à modelação das restrições e à sua introdução no *model*.\n",
    "\n",
    "A restrição\n",
    "\n",
    "1. Verficar que o vetor não é nulo."
   ]
  },
  {
   "cell_type": "code",
   "execution_count": 45,
   "id": "249e98e7",
   "metadata": {},
   "outputs": [],
   "source": [
    "# Verificar se existe não nulos\n",
    "model.Add(sum(e[j] for j in range(m)) != 0)\n",
    "\n",
    "for i in range(n):\n",
    "    K = model.NewIntVar(-20, 20, f'K[{i}]')\n",
    "    model.Add(sum(e[j] * L[j, i] for j in range(m)) == q * K)"
   ]
  },
  {
   "cell_type": "markdown",
   "id": "88305e8e",
   "metadata": {},
   "source": [
    "Minimizar o número de componentes não nulas do vetor e"
   ]
  },
  {
   "cell_type": "code",
   "execution_count": 40,
   "id": "1faac8d9",
   "metadata": {},
   "outputs": [],
   "source": [
    "model.Minimize(sum(e[j] for j in range(m)))"
   ]
  },
  {
   "cell_type": "code",
   "execution_count": null,
   "id": "8b2a969e",
   "metadata": {},
   "outputs": [],
   "source": []
  }
 ],
 "metadata": {
  "kernelspec": {
   "display_name": "Python 3 (ipykernel)",
   "language": "python",
   "name": "python3"
  },
  "language_info": {
   "codemirror_mode": {
    "name": "ipython",
    "version": 3
   },
   "file_extension": ".py",
   "mimetype": "text/x-python",
   "name": "python",
   "nbconvert_exporter": "python",
   "pygments_lexer": "ipython3",
   "version": "3.9.12"
  }
 },
 "nbformat": 4,
 "nbformat_minor": 5
}
