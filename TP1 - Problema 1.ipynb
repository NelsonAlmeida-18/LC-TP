{
 "cells": [
  {
   "cell_type": "markdown",
   "metadata": {},
   "source": [
    "# TP1 - Problema 2"
   ]
  },
  {
   "cell_type": "markdown",
   "metadata": {},
   "source": [
    "### Grupo 11\n",
    "\n",
    "Nelson Almeida a95652\n",
    "<br>\n",
    "Nuno Costa a97610"
   ]
  },
  {
   "cell_type": "markdown",
   "metadata": {},
   "source": [
    "#### Problema 1\n",
    "\n",
    "Pretende-se construir um horário semanal para o plano de reuniões de projeto de uma “StartUp” de acordo com as seguintes condições:\n",
    "1. Cada reunião ocupa uma sala (enumeradas $ 1...S \\,$) durante um “slot”  $1..T\\,$ $(\\text{hora},\\text{dia})$.  \n",
    "2.  Cada reunião tem associado um projeto (enumerados $1..P$) e um conjunto de participantes. Os diferentes colaboradores são enumerados $1..C$.\n",
    "3. Cada projeto tem associado um conjunto de colaboradores, dos quais um  é o líder. Cada projeto realiza um dado número de reuniões semanais. \n",
    "4. O líder do projeto participa em todas as reuniões do seu projeto; os restantes colaboradores podem ou não participar consoante a sua disponibilidade, num mínimo (“quorum”) de  $50\\%$ do total de colaboradores do projeto. \n",
    "    \n",
    "São “inputs” do problema:\n",
    "1. Os parâmetros $S\\,,\\,T\\,,\\,P\\,,\\,C$\n",
    "  \n",
    "2. O conjunto de colaboradores de cada projeto, o seu líder e o número mínimo  de reuniões semanais.\n",
    "    \n",
    "3. A disponibilidade de cada participante, incluindo o lider. Essa disponibilidade   é um conjunto de “slots”  representada numa matriz booleana de acessibilidade com uma linha por cada participante $1..C$ e uma coluna por “slot” $\\,1..T\\,$\n",
    "\n",
    "São critérios de optimização:\n",
    "1. Maximizar o número de reuniões efetivamente realizadas\n",
    "    \n",
    "2. Minimizar o número médio de reuniões por participante."
   ]
  },
  {
   "cell_type": "code",
   "execution_count": 123,
   "metadata": {},
   "outputs": [],
   "source": [
    "from ortools.linear_solver import pywraplp\n",
    "horario = pywraplp.Solver.CreateSolver(\"SCIP\")\n",
    "S, T, C, P = 3, (8,5), 3, 2\n",
    "#3 salas, 8 slots p/dia 5 dias p/semana , 10 colaboradores, 5 projetos\n",
    "colabPerProject = {0:[0,1,2],1:[]}\n",
    "projectLeaders = {0:1}  \n",
    "meetings = {0:10}\n",
    "\n",
    "maxMeets = horario.IntVar(0,sum(meetings[x] for x in meetings), \"maxMeetings\") #variavel para maximizar o numero de reuniões por semana\n",
    "\n",
    "#inicialização da matriz\n",
    "x = {}\n",
    "for s in range(S):\n",
    "    x[s]={}\n",
    "    for d in range(T[1]):\n",
    "        x[s][d]={}\n",
    "        for h in range(T[0]):\n",
    "            x[s][d][h]={}\n",
    "            for p in range(P):\n",
    "                x[s][d][h][p] = horario.BoolVar(f\"x[{s}][{d}][{h}][{p}]\")\n",
    "        \n",
    "y = {}\n",
    "for c in range(C):\n",
    "    y[c]={}\n",
    "    for d in range(T[1]):\n",
    "        y[c][d]={}\n",
    "        for h in range(T[0]):\n",
    "            y[c][d][h]={}\n",
    "            for p in range(P):\n",
    "                y[c][d][h][p]=horario.BoolVar(f\"y[{c}][{d}][{h}][{p}]\")"
   ]
  },
  {
   "cell_type": "markdown",
   "metadata": {},
   "source": [
    "Passamos agora à modelação das restrições e à sua introdução no *solver*.\n",
    "\n",
    "A restrição:\n",
    "\n",
    "1. O quorum por reunião é igual ou superior a 50%\n",
    "\n",
    "$$\n",
    "\\forall_{d < D} \\;\\forall_{p < P} \\;\\forall_{h < H} \\;\\sum_{c < C} y_{c,d,h,p} \\geq 0.5 \\cdot len(colabsPerProject[p])\n",
    "$$\n"
   ]
  },
  {
   "cell_type": "code",
   "execution_count": 124,
   "metadata": {},
   "outputs": [],
   "source": [
    "for d in range(T[1]):\n",
    "    for p in range(P):\n",
    "        for h in range(T[0]):\n",
    "            horario.Add(sum(y[c][d][h][p] for c in range(C))>=0.5*len(colabPerProject[p]))       "
   ]
  },
  {
   "cell_type": "markdown",
   "metadata": {},
   "source": [
    "A restrição:\n",
    "\n",
    "2. Verificar que o número mínimo de reuniões semanais é satisfeito.\n",
    "\n",
    "$$\n",
    "\\forall_{p < P} \\sum_{s < S, d < D, h < H} x_{s,d,h,p} \\geq meetings[p]\n",
    "$$"
   ]
  },
  {
   "cell_type": "code",
   "execution_count": 125,
   "metadata": {},
   "outputs": [],
   "source": [
    "#verificar que o número mínimo de reuniões semanais é satisfeito\n",
    "for projeto in range(P):\n",
    "    horario.Add(sum([x[s][d][h][projeto] for s in range(S) for d in range(T[1]) for h in range(T[0])])>=meetings[projeto])"
   ]
  },
  {
   "cell_type": "markdown",
   "metadata": {},
   "source": [
    "A restrição:\n",
    "\n",
    "3. Verificar que o líder participa em todas as reuniões\n",
    "\n",
    "$$\n",
    "\\forall_ {d<D} \\;\\forall_{p < P} \\;\\forall_{h < H} \n",
    "$$\n",
    " \n",
    "ACABAR"
   ]
  },
  {
   "cell_type": "code",
   "execution_count": 126,
   "metadata": {},
   "outputs": [],
   "source": [
    "#verificar que o lider participa em todas as reuniões\n",
    "for d in range(T[1]):\n",
    "    for p in range(P):\n",
    "        for h in range(T[0]):\n",
    "            lider = projectLeaders[p]\n",
    "            horario.Add(sum([x[s][d][h][p]])==y[lider][d][h][p])"
   ]
  },
  {
   "cell_type": "markdown",
   "metadata": {},
   "source": [
    "A restrição:\n",
    "\n",
    "4. Cada sala só é utilizada para uma reunião de cada vez\n",
    "\n",
    "$$\n",
    "\\forall_{s < S} \\;\\forall_{d < D} \\;\\forall_{h < H} \\sum_{p < P} x_{s,d,h,p} \\leq 1\n",
    "$$\n",
    "\n",
    "TESTAR"
   ]
  },
  {
   "cell_type": "code",
   "execution_count": 1,
   "metadata": {},
   "outputs": [
    {
     "ename": "NameError",
     "evalue": "name 'S' is not defined",
     "output_type": "error",
     "traceback": [
      "\u001b[1;31m---------------------------------------------------------------------------\u001b[0m",
      "\u001b[1;31mNameError\u001b[0m                                 Traceback (most recent call last)",
      "Input \u001b[1;32mIn [1]\u001b[0m, in \u001b[0;36m<cell line: 1>\u001b[1;34m()\u001b[0m\n\u001b[1;32m----> 1\u001b[0m \u001b[38;5;28;01mfor\u001b[39;00m s \u001b[38;5;129;01min\u001b[39;00m \u001b[38;5;28mrange\u001b[39m(\u001b[43mS\u001b[49m):\n\u001b[0;32m      2\u001b[0m     \u001b[38;5;28;01mfor\u001b[39;00m d \u001b[38;5;129;01min\u001b[39;00m \u001b[38;5;28mrange\u001b[39m(T[\u001b[38;5;241m1\u001b[39m]):\n\u001b[0;32m      3\u001b[0m         \u001b[38;5;28;01mfor\u001b[39;00m h \u001b[38;5;129;01min\u001b[39;00m \u001b[38;5;28mrange\u001b[39m(T[\u001b[38;5;241m0\u001b[39m]):\n",
      "\u001b[1;31mNameError\u001b[0m: name 'S' is not defined"
     ]
    }
   ],
   "source": [
    "for s in range(S):\n",
    "    for d in range(T[1]):\n",
    "        for h in range(T[0]):\n",
    "            horario.Add(sum([x[s][d][h][p] for p in range(P)])<=1)"
   ]
  },
  {
   "cell_type": "markdown",
   "metadata": {},
   "source": [
    "A restrição:\n",
    "\n",
    "5. Verificar que o só existe um projeto alocado a cada colaborador de cada vez\n",
    "\n",
    "$$\n",
    "\\forall_{c < C} \\;\\forall_{d < D} \\;\\forall_{h < H} \\sum_{p < P} y_{c,d,h,p} \\leq 1\n",
    "$$"
   ]
  },
  {
   "cell_type": "code",
   "execution_count": 128,
   "metadata": {},
   "outputs": [],
   "source": [
    "for c in range(C):\n",
    "    for d in range(T[1]):\n",
    "        for h in range(T[0]):\n",
    "            horario.Add(sum([y[c][d][h][p] for p in range(P)])<=1)"
   ]
  },
  {
   "cell_type": "markdown",
   "metadata": {},
   "source": [
    "A restrição:\n",
    "\n",
    "6. Verificar que os projetos alocados a cada colaborador são os originalmente selecionados\n",
    "\n",
    "$$\n",
    "\\forall_{c < C} \\;\\forall_{d < D} \\;\\forall_{h < H} \\;\\forall_{p < P} \n",
    "$$\n",
    "\n",
    "ACABAR"
   ]
  },
  {
   "cell_type": "code",
   "execution_count": 129,
   "metadata": {},
   "outputs": [],
   "source": [
    "for c in range(C):\n",
    "    for d in range(T[1]):\n",
    "        for h in range(T[0]):\n",
    "            for p in range(P):\n",
    "                if c not in colabPerProject[p]:\n",
    "                    horario.Add(y[c][d][h][p]==0)\n",
    "                    "
   ]
  },
  {
   "cell_type": "markdown",
   "metadata": {},
   "source": [
    "*Maximizar* o número de reuniões realizadas por projeto\n"
   ]
  },
  {
   "cell_type": "code",
   "execution_count": 130,
   "metadata": {},
   "outputs": [],
   "source": [
    "horario.Maximize(sum(x[s][d][h][p] for s in range(S) for d in range(T[1]) for h in range(T[0]) for p in range(P)))"
   ]
  },
  {
   "cell_type": "markdown",
   "metadata": {},
   "source": [
    "Minimizar o número médio de reuniões semanais por colaborador"
   ]
  },
  {
   "cell_type": "code",
   "execution_count": 131,
   "metadata": {},
   "outputs": [],
   "source": [
    "horario.Minimize(sum(y[c][d][h][p] for c in range(C) for d in range(T[1]) for h in range(T[0]) for p in range(P))/C)"
   ]
  },
  {
   "cell_type": "markdown",
   "metadata": {},
   "source": [
    "Solução do Problema"
   ]
  },
  {
   "cell_type": "code",
   "execution_count": 135,
   "metadata": {},
   "outputs": [
    {
     "name": "stdout",
     "output_type": "stream",
     "text": [
      "Solução encontrada\n",
      "╒════════╤═════════════════╤═════════════════╤═════════════════╤═════════════════╤═════════════════╕\n",
      "│        │ Segunda         │ Terça           │ Quarta          │ Quinta          │ Sexta           │\n",
      "├────────┼─────────────────┼─────────────────┼─────────────────┼─────────────────┼─────────────────┤\n",
      "│ 9:00h  │ Projeto:0       │ Projeto:0       │ Projeto:0       │ Projeto:0       │ Projeto:0       │\n",
      "│        │ Sala:1          │ Sala:1          │ Sala:1          │ Sala:1          │ Sala:1          │\n",
      "│        │ Colaboradores:1 │ Colaboradores:1 │ Colaboradores:1 │ Colaboradores:1 │ Colaboradores:1 │\n",
      "├────────┼─────────────────┼─────────────────┼─────────────────┼─────────────────┼─────────────────┤\n",
      "│ 10:00h │ Projeto:0       │ Projeto:0       │ Projeto:0       │ Projeto:0       │ Projeto:0       │\n",
      "│        │ Sala:1          │ Sala:1          │ Sala:1          │ Sala:1          │ Sala:1          │\n",
      "│        │ Colaboradores:1 │ Colaboradores:1 │ Colaboradores:1 │ Colaboradores:1 │ Colaboradores:1 │\n",
      "├────────┼─────────────────┼─────────────────┼─────────────────┼─────────────────┼─────────────────┤\n",
      "│ 11:00h │ Projeto:0       │ Projeto:0       │ Projeto:0       │ Projeto:0       │ Projeto:0       │\n",
      "│        │ Sala:1          │ Sala:1          │ Sala:1          │ Sala:1          │ Sala:1          │\n",
      "│        │ Colaboradores:1 │ Colaboradores:1 │ Colaboradores:1 │ Colaboradores:1 │ Colaboradores:1 │\n",
      "├────────┼─────────────────┼─────────────────┼─────────────────┼─────────────────┼─────────────────┤\n",
      "│ 12:00h │ Projeto:0       │ Projeto:0       │ Projeto:0       │ Projeto:0       │ Projeto:0       │\n",
      "│        │ Sala:1          │ Sala:1          │ Sala:1          │ Sala:1          │ Sala:1          │\n",
      "│        │ Colaboradores:1 │ Colaboradores:1 │ Colaboradores:1 │ Colaboradores:1 │ Colaboradores:1 │\n",
      "├────────┼─────────────────┼─────────────────┼─────────────────┼─────────────────┼─────────────────┤\n",
      "│ 13:00h │ Projeto:0       │ Projeto:0       │ Projeto:0       │ Projeto:0       │ Projeto:0       │\n",
      "│        │ Sala:1          │ Sala:1          │ Sala:1          │ Sala:1          │ Sala:1          │\n",
      "│        │ Colaboradores:1 │ Colaboradores:1 │ Colaboradores:1 │ Colaboradores:1 │ Colaboradores:1 │\n",
      "├────────┼─────────────────┼─────────────────┼─────────────────┼─────────────────┼─────────────────┤\n",
      "│ 14:00h │ Projeto:0       │ Projeto:0       │ Projeto:0       │ Projeto:0       │ Projeto:0       │\n",
      "│        │ Sala:1          │ Sala:1          │ Sala:1          │ Sala:1          │ Sala:1          │\n",
      "│        │ Colaboradores:1 │ Colaboradores:1 │ Colaboradores:1 │ Colaboradores:1 │ Colaboradores:1 │\n",
      "├────────┼─────────────────┼─────────────────┼─────────────────┼─────────────────┼─────────────────┤\n",
      "│ 15:00h │ Projeto:0       │ Projeto:0       │ Projeto:0       │ Projeto:0       │ Projeto:0       │\n",
      "│        │ Sala:1          │ Sala:1          │ Sala:1          │ Sala:1          │ Sala:1          │\n",
      "│        │ Colaboradores:1 │ Colaboradores:1 │ Colaboradores:1 │ Colaboradores:1 │ Colaboradores:1 │\n",
      "├────────┼─────────────────┼─────────────────┼─────────────────┼─────────────────┼─────────────────┤\n",
      "│ 16:00h │ Projeto:0       │ Projeto:0       │ Projeto:0       │ Projeto:0       │ Projeto:0       │\n",
      "│        │ Sala:1          │ Sala:1          │ Sala:1          │ Sala:1          │ Sala:1          │\n",
      "│        │ Colaboradores:1 │ Colaboradores:1 │ Colaboradores:1 │ Colaboradores:1 │ Colaboradores:1 │\n",
      "╘════════╧═════════════════╧═════════════════╧═════════════════╧═════════════════╧═════════════════╛\n"
     ]
    }
   ],
   "source": [
    "from tabulate import tabulate\n",
    "\n",
    "status = horario.Solve()\n",
    "if status== pywraplp.Solver.OPTIMAL:\n",
    "    print(\"Solução encontrada\")\n",
    "                    \n",
    "    tabela = [[] for hora in range(T[0]+1)]  #horas+1 pois queremos a primeira row para colocar os dias\n",
    "    #definir os dias\n",
    "    tabela[0].append(\"\")\n",
    "    semana = [\"Segunda\", \"Terça\", \"Quarta\", \"Quinta\", \"Sexta\"]\n",
    "    for d in range(T[1]):\n",
    "        tabela[0].append(semana[d])\n",
    "    \n",
    "    #definir as horas de trabalho\n",
    "    for h in range(1,T[0]+1):\n",
    "        tabela[h].append(f\"{int(h)+8}:00h\")\n",
    "        \n",
    "    #começar a preencher a tabela\n",
    "    #sala, projeto, colaboradores presentes\n",
    "    for d in range(T[1]): #para cada dia da semana\n",
    "        for h in range(T[0]):\n",
    "            for p in range(P):\n",
    "                working,salaTemp =0,0\n",
    "                for s in range(S):\n",
    "                    if round(x[s][d][h][p].solution_value())==1:\n",
    "                        working =1\n",
    "                        salaTemp=s\n",
    "                if working==1:\n",
    "                    tabela[h+1].append(f\"Projeto:{p}\\nSala:{salaTemp}\\nColaboradores:{1}\")\n",
    "    \n",
    "    \n",
    "    print(tabulate(tabela, tablefmt=\"fancy_grid\"))\n",
    "    \n",
    "    \n",
    "    \n",
    "else:\n",
    "    print(\"Não foi encontrada solução\")"
   ]
  },
  {
   "cell_type": "code",
   "execution_count": null,
   "metadata": {},
   "outputs": [],
   "source": []
  },
  {
   "cell_type": "code",
   "execution_count": null,
   "metadata": {},
   "outputs": [],
   "source": []
  },
  {
   "cell_type": "code",
   "execution_count": null,
   "metadata": {},
   "outputs": [],
   "source": []
  }
 ],
 "metadata": {
  "kernelspec": {
   "display_name": "Python 3 (ipykernel)",
   "language": "python",
   "name": "python3"
  },
  "language_info": {
   "codemirror_mode": {
    "name": "ipython",
    "version": 3
   },
   "file_extension": ".py",
   "mimetype": "text/x-python",
   "name": "python",
   "nbconvert_exporter": "python",
   "pygments_lexer": "ipython3",
   "version": "3.9.12"
  },
  "vscode": {
   "interpreter": {
    "hash": "b0fa6594d8f4cbf19f97940f81e996739fb7646882a419484c72d19e05852a7e"
   }
  }
 },
 "nbformat": 4,
 "nbformat_minor": 2
}
