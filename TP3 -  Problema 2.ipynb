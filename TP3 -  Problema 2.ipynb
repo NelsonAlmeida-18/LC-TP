{
 "cells": [
  {
   "cell_type": "markdown",
   "id": "690f935a",
   "metadata": {},
   "source": [
    "\n",
    "2. O seguinte sistema dinâmico denota 4 inversores ($$\\,A, B, C, D\\,$$) que lêm um bit num canal input e escrevem num canal output uma transformação desse bit.\n",
    "![](/static/img/pixel.gif)\n",
    "\n",
    "![](https://paper-attachments.dropboxusercontent.com/s_9896551CC5FAD2B2EB6E4EBC08522545FA66314D29FE6A5BE8E593259F8E8A37_1669554332522_inversores.png)\n",
    "\n",
    "        1. Cada inversor tem um bit $$s$$ de estado, inicializado  com um valor aleatório.\n",
    "        2. Cada inversor é regido pelas seguintes transformações\n",
    "                       $\\mathbf{invert}\\mathtt(in,out)$\n",
    "                          $x \\gets \\mathsf{read}(\\mathtt{in})$ \n",
    "                          $s \\gets \\neg x\\;\\;\\|\\;\\; s\\gets s\\oplus x$               \n",
    "                       $\\mathsf{write}(\\mathtt{out},s)$\n",
    "        iii. A escolha neste comando é sempre determinística; isto é, em cada inversor a escolha do comando a executar é sempre a mesma. Porém qual é essa escolha é determinada aleatoriamente na inicializarão do sistema.\n",
    "        iii. O estado do sistema é um duplo definido pelos 4 bits $$s$$, e é inicializado com um vetor aleatório em $$\\{0,1\\}^4\\;$$.\n",
    "        iv. O sistema termina em ERRO quando o estado do sistema for $$\\,(0,0,0,0)\\,$$.\n",
    "                    \n",
    "    1. Construa um SFOTS que descreva este sistema e implemente este sistema, numa abordagem BMC (“bouded model checker”) num traço com $$\\,n\\,$$ estados.\n",
    "    2. Verifique se o sistema é seguro usando BMC, k-indução ou model checking com interpolantes."
   ]
  },
  {
   "cell_type": "code",
   "execution_count": 43,
   "id": "df21f8e0",
   "metadata": {},
   "outputs": [],
   "source": [
    "import random as rd\n",
    "from pysmt.shortcuts import *\n",
    "from pysmt.typing import INT"
   ]
  },
  {
   "cell_type": "code",
   "execution_count": 44,
   "id": "6cfc9675",
   "metadata": {},
   "outputs": [],
   "source": [
    "def error(state):\n",
    "    return And(Equals(state['a'],Int(0)),Equals(state['b'], Int(0)), Equals(state['c'], Int(0)), Equals(state['d'], Int(0)))\n"
   ]
  },
  {
   "cell_type": "code",
   "execution_count": 45,
   "id": "34242581",
   "metadata": {},
   "outputs": [],
   "source": [
    "def declare(i):\n",
    "    state = {}\n",
    "    \n",
    "    # definir variáveis\n",
    "    state['a'] = Symbol('a' + str(i),INT)\n",
    "    state['b'] = Symbol('b' + str(i),INT)\n",
    "    state['c'] = Symbol('c' + str(i),INT)\n",
    "    state['d'] = Symbol('d' + str(i),INT)\n",
    "    \n",
    "    return state"
   ]
  },
  {
   "cell_type": "code",
   "execution_count": 46,
   "id": "41fb828e",
   "metadata": {},
   "outputs": [],
   "source": [
    "def init(state):\n",
    "    return And(\n",
    "        Equals(state['a'], Int(rd.randint(0,1))),\n",
    "        Equals(state['b'], Int(rd.randint(0,1))),\n",
    "        Equals(state['c'], Int(rd.randint(0,1))),\n",
    "        Equals(state['d'], Int(rd.randint(0,1)))\n",
    "    )"
   ]
  },
  {
   "cell_type": "code",
   "execution_count": 53,
   "id": "df75219e",
   "metadata": {},
   "outputs": [],
   "source": [
    "def trans(curr, prox, erro):\n",
    "        #transicao de a para b\n",
    "        t0=And(Not(Equals(curr['a'], curr['c'])), Not(Equals(prox['b'],curr['a'])) )\n",
    "        #transicao de b para d\n",
    "        t1=And(Not(Equals(curr['b'], curr['a'])), Not(Equals(prox['d'],curr['b'])) )\n",
    "        #transicao de d para c\n",
    "        t2=And(Not(Equals(curr['d'], curr['b'])), Not(Equals(prox['d'],curr['c'])) )\n",
    "        #transicao de c para a\n",
    "        t3=And(Not(Equals(curr['c'], curr['d'])), Not(Equals(prox['a'],curr['c'])) )\n",
    "        #estado de erro\n",
    "        t4=Not(erro(curr))\n",
    "        return Or(t0,t1,t2,t3,t4)\n"
   ]
  },
  {
   "cell_type": "code",
   "execution_count": 54,
   "id": "4ecf744f",
   "metadata": {},
   "outputs": [],
   "source": [
    "def geraTraco(init, declare, trans, erro,k):\n",
    "    with Solver(name=\"z3\") as s:\n",
    "        traco = [declare(i) for i in range(k)]\n",
    "        \n",
    "        s.add_assertion(init(traco[0]))\n",
    "        \n",
    "        for i in range(k-1):\n",
    "            s.add_assertion(trans(traco[i], traco[i+1],erro))\n",
    "            \n",
    "        if s.solve():\n",
    "            print(\"Here\")\n",
    "            for v in traco[0]:\n",
    "                print(v, \"=\", s.get_value(traco[0][v]))"
   ]
  },
  {
   "cell_type": "code",
   "execution_count": 55,
   "id": "7a877196",
   "metadata": {},
   "outputs": [
    {
     "name": "stdout",
     "output_type": "stream",
     "text": [
      "Here\n",
      "a = 0\n",
      "b = 1\n",
      "c = 0\n",
      "d = 1\n"
     ]
    }
   ],
   "source": [
    "geraTraco(init, declare, trans, error,5)"
   ]
  },
  {
   "cell_type": "code",
   "execution_count": 67,
   "id": "c221078a",
   "metadata": {},
   "outputs": [],
   "source": [
    "def bmc(declare, init, trans, k, erro):\n",
    "    with Solver(name=\"z3\") as s:\n",
    "        for i in range(1,k+1):\n",
    "            traco = [declare(i) for i in range(k)]\n",
    "            s.add_assertion(init(traco[0]))\n",
    "            \n",
    "            for i in range(k-1):\n",
    "                s.add_assertion(trans(traco[i], traco[i+1], erro))\n",
    "                \n",
    "            #falta invariante\n",
    "            \n",
    "            if s.solve():\n",
    "                print(\"Não tem solucinha\")\n",
    "                return \n",
    "            \n",
    "    print(f\"Propriedade válida para traços de tamanho até {k}\")\n",
    "    \n",
    "        "
   ]
  },
  {
   "cell_type": "code",
   "execution_count": 79,
   "id": "d68e0a23",
   "metadata": {},
   "outputs": [
    {
     "name": "stdout",
     "output_type": "stream",
     "text": [
      "Propriedade válida para traços de tamanho até 2\n"
     ]
    }
   ],
   "source": [
    "bmc(declare, init, trans, 2, error)"
   ]
  },
  {
   "cell_type": "code",
   "execution_count": null,
   "id": "98d0b8dc",
   "metadata": {},
   "outputs": [],
   "source": []
  }
 ],
 "metadata": {
  "kernelspec": {
   "display_name": "Python 3 (ipykernel)",
   "language": "python",
   "name": "python3"
  },
  "language_info": {
   "codemirror_mode": {
    "name": "ipython",
    "version": 3
   },
   "file_extension": ".py",
   "mimetype": "text/x-python",
   "name": "python",
   "nbconvert_exporter": "python",
   "pygments_lexer": "ipython3",
   "version": "3.9.12"
  }
 },
 "nbformat": 4,
 "nbformat_minor": 5
}
