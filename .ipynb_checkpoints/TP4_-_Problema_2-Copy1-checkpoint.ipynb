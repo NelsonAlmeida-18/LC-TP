{
 "cells": [
  {
   "cell_type": "markdown",
   "id": "081d38ea",
   "metadata": {},
   "source": [
    "# TP4- Problema 2"
   ]
  },
  {
   "cell_type": "markdown",
   "id": "c2df3580",
   "metadata": {},
   "source": [
    "### Grupo 11\n",
    "\n",
    "Nelson Almeida a95652\n",
    "<br>\n",
    "Nuno Costa a97610"
   ]
  },
  {
   "cell_type": "markdown",
   "id": "111a3c63",
   "metadata": {},
   "source": [
    "O programa Python seguinte implementa o algoritmo de $bubble sort$ para ordenação $in situ$ de um array de inteiros seq."
   ]
  },
  {
   "cell_type": "code",
   "execution_count": 3,
   "id": "db854603",
   "metadata": {},
   "outputs": [],
   "source": [
    "seq = [-2,1,2,-1,4,-4,-3,3]\n",
    "\n",
    "changed = True\n",
    "while changed:\n",
    "    changed = False\n",
    "    for i in range(len(seq) - 1):\n",
    "        if seq[i] > seq[i+1]:\n",
    "            seq[i], seq[i+1] = seq[i+1], seq[i]\n",
    "            changed = True\n",
    "pass "
   ]
  },
  {
   "cell_type": "markdown",
   "id": "3a23f2c0",
   "metadata": {},
   "source": [
    "1. Defina a pré-condição e a pós-condição que descrevem a especificação deste algoritmo.\n",
    "2. O ciclo `for` pode ser descrito por uma transição $\\,\\mathtt{seq}\\gets \\mathit{exp}(\\mathtt{seq})\\,$. Construa uma relação de transição $\\;\\mathsf{trans}(\\mathtt{seq},\\mathtt{seq}')\\,$ que modele esta atribuição.\n",
    "3. Usando a técnica que lhe parecer mais conveniente verifique a correção do algoritmo."
   ]
  },
  {
   "cell_type": "markdown",
   "id": "63a23344",
   "metadata": {},
   "source": [
    "### Resolução"
   ]
  },
  {
   "cell_type": "markdown",
   "id": "e91676fe",
   "metadata": {},
   "source": [
    "Começamos por importar o módulo pysmt.shortcuts que disponibiliza as funcionalidades para a utilização usual de um SMTsolver. Os tipos estão definidos no módulo pysmt.typing de onde temos que importar o tipo INT."
   ]
  },
  {
   "cell_type": "code",
   "execution_count": 1,
   "id": "7effab1d",
   "metadata": {},
   "outputs": [
    {
     "ename": "ModuleNotFoundError",
     "evalue": "No module named 'pysmt'",
     "output_type": "error",
     "traceback": [
      "\u001b[0;31m---------------------------------------------------------------------------\u001b[0m",
      "\u001b[0;31mModuleNotFoundError\u001b[0m                       Traceback (most recent call last)",
      "Cell \u001b[0;32mIn[1], line 1\u001b[0m\n\u001b[0;32m----> 1\u001b[0m \u001b[38;5;28;01mfrom\u001b[39;00m \u001b[38;5;21;01mpysmt\u001b[39;00m\u001b[38;5;21;01m.\u001b[39;00m\u001b[38;5;21;01mshortcuts\u001b[39;00m \u001b[38;5;28;01mimport\u001b[39;00m \u001b[38;5;241m*\u001b[39m\n\u001b[1;32m      2\u001b[0m \u001b[38;5;28;01mfrom\u001b[39;00m \u001b[38;5;21;01mpysmt\u001b[39;00m\u001b[38;5;21;01m.\u001b[39;00m\u001b[38;5;21;01mtyping\u001b[39;00m \u001b[38;5;28;01mimport\u001b[39;00m \u001b[38;5;241m*\u001b[39m\n",
      "\u001b[0;31mModuleNotFoundError\u001b[0m: No module named 'pysmt'"
     ]
    }
   ],
   "source": [
    "from pysmt.shortcuts import *\n",
    "from pysmt.typing import *"
   ]
  },
  {
   "cell_type": "markdown",
   "id": "ff526c3e",
   "metadata": {},
   "source": [
    "Começemos por definir a pré-condição e a pós-condição.\n",
    "\n",
    "```python\n",
    "Sejam pre = changed == True\n",
    "      pos = changed == False and ( forall i . 0 <= i < len(seq)-1 -> seq[i] <= seq[i+1] )\n",
    "```"
   ]
  },
  {
   "cell_type": "markdown",
   "id": "0431bda5",
   "metadata": {},
   "source": [
    "O estado inicial é caracterizado pelo seguinte predicado:\n",
    "\n",
    "$$ node = 0 \\land changed = True  $$\n",
    "\n",
    "As transições possíveis são caracterizadas pelos seguintes predicados:\n",
    "\n",
    "$$ node = 0 \\land pos = False \\land node' = 1 \\land seq' = seq \\land changed' = changed $$\n"
   ]
  },
  {
   "cell_type": "code",
   "execution_count": 1,
   "id": "9fe7f7c1",
   "metadata": {},
   "outputs": [],
   "source": [
    "def declare(i, array, n):\n",
    "    state = {}\n",
    "    \n",
    "    state['node'] = Symbol('node' + str(i), INT)\n",
    "    \n",
    "    state['changed'] = Symbol('changed', BOOL)\n",
    "    \n",
    "    state['seq'] = {}\n",
    "    for j in range(n):\n",
    "        state['a' + j] = Symbol('a' + str(j), INT)\n",
    "    \n",
    "    return state"
   ]
  },
  {
   "cell_type": "code",
   "execution_count": 2,
   "id": "8573fd44",
   "metadata": {},
   "outputs": [],
   "source": [
    "def init(state, lista, node):\n",
    "    states = []\n",
    "    states.append(Equals(state[\"node\"],node))\n",
    "    states.append(Equals(state[\"changed\"],True))\n",
    "    \n",
    "    for i in range(len(lista)):\n",
    "        states.append(Equals(state[f\"a{i}\"],lista[i]))\n",
    "\n",
    "    return And(states)\n",
    "    "
   ]
  },
  {
   "cell_type": "code",
   "execution_count": 41,
   "id": "8c140657",
   "metadata": {},
   "outputs": [],
   "source": [
    "def is_sorted(atual, n):\n",
    "    lista = []\n",
    "    \n",
    "    for i in range(n-1):\n",
    "        lista.append(GE(atual['seq'][i], atual['seq'][i+1]))\n",
    "        \n",
    "    return And(lista)\n",
    "\n",
    "def swap(atual, prox, i, j):\n",
    "    return And(Equals(atual['seq'][i], prox['seq'][j]),\n",
    "               Equals(atual['seq'][j], prox['seq'][i]))\n",
    "    \n",
    "def same(atual, prox, i, j):\n",
    "    return And(Equals(atual['seq'][i], prox['seq'][i]),\n",
    "               Equals(atual['seq'][j], prox['seq'][j]))"
   ]
  },
  {
   "cell_type": "code",
   "execution_count": 42,
   "id": "3f9df469",
   "metadata": {},
   "outputs": [],
   "source": [
    "def pre(atual):\n",
    "    print(\"Falta definir\")\n",
    "    \n",
    "def pos(atual, n):\n",
    "    return And(is_sorted(atual, n), Equals(atual['changed'], FALSE()))"
   ]
  },
  {
   "cell_type": "code",
   "execution_count": 43,
   "id": "739a4931",
   "metadata": {},
   "outputs": [],
   "source": [
    "def change(atual, prox, n):\n",
    "    lista = []\n",
    "    for i in range(n):\n",
    "        lista.append(Ite(GT(atual['seq'][i], atual['seq'][i+1]), swap(atual, prox, i, i+1), same(atual, prox, i, i+1)))\n",
    "        \n",
    "    return And(lista)"
   ]
  },
  {
   "cell_type": "code",
   "execution_count": 44,
   "id": "e038e5a2",
   "metadata": {},
   "outputs": [],
   "source": [
    "def trans(atual, prox, n):\n",
    "    transs = []\n",
    "    set_changed_false = curr[\"changed\"]==False\n",
    "    \n",
    "    for i in range(n-1):\n",
    "        transs.append(\n",
    "            Ite(curr[f\"a{i}\"]>curr[f\"a{i+1}\"])\n",
    "                And(\n",
    "                    Equals(prox[f\"a{i}\"],curr[f\"a{i+1}\"]),\n",
    "                    Equals(prox[f\"a{i+1}\"],prox[f\"a{i}\"]),\n",
    "                    Equals(prox[\"changed\"],True)\n",
    "                ),\n",
    "                And(\n",
    "                    Equals(curr[f\"a{i}\"],curr[f\"a{i}\"]),\n",
    "                    Equals(prox[\"changed\"], curr[\"changed\"])\n",
    "            )\n",
    "        \n",
    "    return Or(transs)"
   ]
  },
  {
   "cell_type": "code",
   "execution_count": 45,
   "id": "4870242e",
   "metadata": {},
   "outputs": [],
   "source": [
    "def gera_traco(declare, init, trans, changed, array, n, k):\n",
    "    \n",
    "    with Solver(name=\"z3\") as s:\n",
    "    \n",
    "        trace = [declare(i, array, n) for i in range(k)]\n",
    "\n",
    "        s.add_assertion(init(trace[0], changed))\n",
    "    \n",
    "        for i in range(k-1):\n",
    "            s.add_assertion(trans(trace[i], trace[i+1], n))\n",
    "    \n",
    "        if s.solve():\n",
    "            for i in range(k):\n",
    "                print(\"Passo\", i)\n",
    "                for v in trace[i]:\n",
    "                    print(v, \"=\", s.get_value(trace[i][v]))\n",
    "                print(\"-----------\")"
   ]
  },
  {
   "cell_type": "code",
   "execution_count": 46,
   "id": "1b1268d6",
   "metadata": {},
   "outputs": [
    {
     "ename": "PysmtValueError",
     "evalue": "typename must be a PySMTType.",
     "output_type": "error",
     "traceback": [
      "\u001b[1;31m---------------------------------------------------------------------------\u001b[0m",
      "\u001b[1;31mPysmtValueError\u001b[0m                           Traceback (most recent call last)",
      "Input \u001b[1;32mIn [46]\u001b[0m, in \u001b[0;36m<cell line: 2>\u001b[1;34m()\u001b[0m\n\u001b[0;32m      1\u001b[0m seq \u001b[38;5;241m=\u001b[39m [\u001b[38;5;241m-\u001b[39m\u001b[38;5;241m2\u001b[39m,\u001b[38;5;241m1\u001b[39m,\u001b[38;5;241m2\u001b[39m,\u001b[38;5;241m-\u001b[39m\u001b[38;5;241m1\u001b[39m,\u001b[38;5;241m4\u001b[39m,\u001b[38;5;241m-\u001b[39m\u001b[38;5;241m4\u001b[39m,\u001b[38;5;241m-\u001b[39m\u001b[38;5;241m3\u001b[39m,\u001b[38;5;241m3\u001b[39m]\n\u001b[1;32m----> 2\u001b[0m \u001b[43mgera_traco\u001b[49m\u001b[43m(\u001b[49m\u001b[43mdeclare\u001b[49m\u001b[43m,\u001b[49m\u001b[43m \u001b[49m\u001b[43minit\u001b[49m\u001b[43m,\u001b[49m\u001b[43m \u001b[49m\u001b[43mtrans\u001b[49m\u001b[43m,\u001b[49m\u001b[43m \u001b[49m\u001b[38;5;28;43;01mTrue\u001b[39;49;00m\u001b[43m,\u001b[49m\u001b[43m \u001b[49m\u001b[43mseq\u001b[49m\u001b[43m,\u001b[49m\u001b[43m \u001b[49m\u001b[38;5;28;43mlen\u001b[39;49m\u001b[43m(\u001b[49m\u001b[43mseq\u001b[49m\u001b[43m)\u001b[49m\u001b[43m,\u001b[49m\u001b[43m \u001b[49m\u001b[38;5;241;43m10\u001b[39;49m\u001b[43m)\u001b[49m\n",
      "Input \u001b[1;32mIn [45]\u001b[0m, in \u001b[0;36mgera_traco\u001b[1;34m(declare, init, trans, changed, array, n, k)\u001b[0m\n\u001b[0;32m      1\u001b[0m \u001b[38;5;28;01mdef\u001b[39;00m \u001b[38;5;21mgera_traco\u001b[39m(declare, init, trans, changed, array, n, k):\n\u001b[0;32m      3\u001b[0m     \u001b[38;5;28;01mwith\u001b[39;00m Solver(name\u001b[38;5;241m=\u001b[39m\u001b[38;5;124m\"\u001b[39m\u001b[38;5;124mz3\u001b[39m\u001b[38;5;124m\"\u001b[39m) \u001b[38;5;28;01mas\u001b[39;00m s:\n\u001b[1;32m----> 5\u001b[0m         trace \u001b[38;5;241m=\u001b[39m [declare(i, array, n) \u001b[38;5;28;01mfor\u001b[39;00m i \u001b[38;5;129;01min\u001b[39;00m \u001b[38;5;28mrange\u001b[39m(k)]\n\u001b[0;32m      7\u001b[0m         s\u001b[38;5;241m.\u001b[39madd_assertion(init(trace[\u001b[38;5;241m0\u001b[39m], changed))\n\u001b[0;32m      9\u001b[0m         \u001b[38;5;28;01mfor\u001b[39;00m i \u001b[38;5;129;01min\u001b[39;00m \u001b[38;5;28mrange\u001b[39m(k\u001b[38;5;241m-\u001b[39m\u001b[38;5;241m1\u001b[39m):\n",
      "Input \u001b[1;32mIn [45]\u001b[0m, in \u001b[0;36m<listcomp>\u001b[1;34m(.0)\u001b[0m\n\u001b[0;32m      1\u001b[0m \u001b[38;5;28;01mdef\u001b[39;00m \u001b[38;5;21mgera_traco\u001b[39m(declare, init, trans, changed, array, n, k):\n\u001b[0;32m      3\u001b[0m     \u001b[38;5;28;01mwith\u001b[39;00m Solver(name\u001b[38;5;241m=\u001b[39m\u001b[38;5;124m\"\u001b[39m\u001b[38;5;124mz3\u001b[39m\u001b[38;5;124m\"\u001b[39m) \u001b[38;5;28;01mas\u001b[39;00m s:\n\u001b[1;32m----> 5\u001b[0m         trace \u001b[38;5;241m=\u001b[39m [\u001b[43mdeclare\u001b[49m\u001b[43m(\u001b[49m\u001b[43mi\u001b[49m\u001b[43m,\u001b[49m\u001b[43m \u001b[49m\u001b[43marray\u001b[49m\u001b[43m,\u001b[49m\u001b[43m \u001b[49m\u001b[43mn\u001b[49m\u001b[43m)\u001b[49m \u001b[38;5;28;01mfor\u001b[39;00m i \u001b[38;5;129;01min\u001b[39;00m \u001b[38;5;28mrange\u001b[39m(k)]\n\u001b[0;32m      7\u001b[0m         s\u001b[38;5;241m.\u001b[39madd_assertion(init(trace[\u001b[38;5;241m0\u001b[39m], changed))\n\u001b[0;32m      9\u001b[0m         \u001b[38;5;28;01mfor\u001b[39;00m i \u001b[38;5;129;01min\u001b[39;00m \u001b[38;5;28mrange\u001b[39m(k\u001b[38;5;241m-\u001b[39m\u001b[38;5;241m1\u001b[39m):\n",
      "Input \u001b[1;32mIn [39]\u001b[0m, in \u001b[0;36mdeclare\u001b[1;34m(i, array, n)\u001b[0m\n\u001b[0;32m      8\u001b[0m state[\u001b[38;5;124m'\u001b[39m\u001b[38;5;124mseq\u001b[39m\u001b[38;5;124m'\u001b[39m] \u001b[38;5;241m=\u001b[39m {}\n\u001b[0;32m      9\u001b[0m \u001b[38;5;28;01mfor\u001b[39;00m j \u001b[38;5;129;01min\u001b[39;00m \u001b[38;5;28mrange\u001b[39m(n):\n\u001b[1;32m---> 10\u001b[0m     state[\u001b[38;5;124m'\u001b[39m\u001b[38;5;124mseq\u001b[39m\u001b[38;5;124m'\u001b[39m][j] \u001b[38;5;241m=\u001b[39m \u001b[43mSymbol\u001b[49m\u001b[43m(\u001b[49m\u001b[38;5;28;43mstr\u001b[39;49m\u001b[43m(\u001b[49m\u001b[43mj\u001b[49m\u001b[43m)\u001b[49m\u001b[43m,\u001b[49m\u001b[43m \u001b[49m\u001b[43mInt\u001b[49m\u001b[43m(\u001b[49m\u001b[43marray\u001b[49m\u001b[43m[\u001b[49m\u001b[43mj\u001b[49m\u001b[43m]\u001b[49m\u001b[43m)\u001b[49m\u001b[43m)\u001b[49m\n\u001b[0;32m     12\u001b[0m \u001b[38;5;28;01mreturn\u001b[39;00m state\n",
      "File \u001b[1;32m~\\anaconda3\\lib\\site-packages\\pysmt\\shortcuts.py:243\u001b[0m, in \u001b[0;36mSymbol\u001b[1;34m(name, typename)\u001b[0m\n\u001b[0;32m    236\u001b[0m \u001b[38;5;28;01mdef\u001b[39;00m \u001b[38;5;21mSymbol\u001b[39m(name, typename\u001b[38;5;241m=\u001b[39mtypes\u001b[38;5;241m.\u001b[39mBOOL):\n\u001b[0;32m    237\u001b[0m     \u001b[38;5;124;03m\"\"\"Returns a symbol with the given name and type.\u001b[39;00m\n\u001b[0;32m    238\u001b[0m \n\u001b[0;32m    239\u001b[0m \u001b[38;5;124;03m    :param name: Specify the name\u001b[39;00m\n\u001b[0;32m    240\u001b[0m \u001b[38;5;124;03m    :param typename: Specify the typename\u001b[39;00m\n\u001b[0;32m    241\u001b[0m \u001b[38;5;124;03m    :returns: A symbol with the given name and type\u001b[39;00m\n\u001b[0;32m    242\u001b[0m \u001b[38;5;124;03m    \"\"\"\u001b[39;00m\n\u001b[1;32m--> 243\u001b[0m     \u001b[38;5;28;01mreturn\u001b[39;00m \u001b[43mget_env\u001b[49m\u001b[43m(\u001b[49m\u001b[43m)\u001b[49m\u001b[38;5;241;43m.\u001b[39;49m\u001b[43mformula_manager\u001b[49m\u001b[38;5;241;43m.\u001b[39;49m\u001b[43mSymbol\u001b[49m\u001b[43m(\u001b[49m\u001b[43mname\u001b[49m\u001b[43m,\u001b[49m\u001b[43m \u001b[49m\u001b[43mtypename\u001b[49m\u001b[43m)\u001b[49m\n",
      "File \u001b[1;32m~\\anaconda3\\lib\\site-packages\\pysmt\\formula.py:143\u001b[0m, in \u001b[0;36mFormulaManager.Symbol\u001b[1;34m(self, name, typename)\u001b[0m\n\u001b[0;32m    142\u001b[0m \u001b[38;5;28;01mdef\u001b[39;00m \u001b[38;5;21mSymbol\u001b[39m(\u001b[38;5;28mself\u001b[39m, name, typename\u001b[38;5;241m=\u001b[39mtypes\u001b[38;5;241m.\u001b[39mBOOL):\n\u001b[1;32m--> 143\u001b[0m     \u001b[38;5;28;01mreturn\u001b[39;00m \u001b[38;5;28;43mself\u001b[39;49m\u001b[38;5;241;43m.\u001b[39;49m\u001b[43mget_or_create_symbol\u001b[49m\u001b[43m(\u001b[49m\u001b[43mname\u001b[49m\u001b[43m,\u001b[49m\u001b[43m \u001b[49m\u001b[43mtypename\u001b[49m\u001b[43m)\u001b[49m\n",
      "File \u001b[1;32m~\\anaconda3\\lib\\site-packages\\pysmt\\formula.py:133\u001b[0m, in \u001b[0;36mFormulaManager.get_or_create_symbol\u001b[1;34m(self, name, typename)\u001b[0m\n\u001b[0;32m    131\u001b[0m s \u001b[38;5;241m=\u001b[39m \u001b[38;5;28mself\u001b[39m\u001b[38;5;241m.\u001b[39msymbols\u001b[38;5;241m.\u001b[39mget(name, \u001b[38;5;28;01mNone\u001b[39;00m)\n\u001b[0;32m    132\u001b[0m \u001b[38;5;28;01mif\u001b[39;00m s \u001b[38;5;129;01mis\u001b[39;00m \u001b[38;5;28;01mNone\u001b[39;00m:\n\u001b[1;32m--> 133\u001b[0m     \u001b[38;5;28;01mreturn\u001b[39;00m \u001b[38;5;28;43mself\u001b[39;49m\u001b[38;5;241;43m.\u001b[39;49m\u001b[43m_create_symbol\u001b[49m\u001b[43m(\u001b[49m\u001b[43mname\u001b[49m\u001b[43m,\u001b[49m\u001b[43m \u001b[49m\u001b[43mtypename\u001b[49m\u001b[43m)\u001b[49m\n\u001b[0;32m    134\u001b[0m \u001b[38;5;28;01mif\u001b[39;00m \u001b[38;5;129;01mnot\u001b[39;00m s\u001b[38;5;241m.\u001b[39msymbol_type() \u001b[38;5;241m==\u001b[39m typename:\n\u001b[0;32m    135\u001b[0m     \u001b[38;5;28;01mraise\u001b[39;00m PysmtTypeError(\u001b[38;5;124m\"\u001b[39m\u001b[38;5;124mTrying to redefine symbol \u001b[39m\u001b[38;5;124m'\u001b[39m\u001b[38;5;132;01m%s\u001b[39;00m\u001b[38;5;124m'\u001b[39m\u001b[38;5;124m with a new type\u001b[39m\u001b[38;5;124m\"\u001b[39m\n\u001b[0;32m    136\u001b[0m                          \u001b[38;5;124m\"\u001b[39m\u001b[38;5;124m. Previous type was \u001b[39m\u001b[38;5;124m'\u001b[39m\u001b[38;5;132;01m%s\u001b[39;00m\u001b[38;5;124m'\u001b[39m\u001b[38;5;124m new type is \u001b[39m\u001b[38;5;124m'\u001b[39m\u001b[38;5;132;01m%s\u001b[39;00m\u001b[38;5;124m'\u001b[39m\u001b[38;5;124m\"\u001b[39m \u001b[38;5;241m%\u001b[39m\n\u001b[0;32m    137\u001b[0m                          (name, s\u001b[38;5;241m.\u001b[39msymbol_type(), typename))\n",
      "File \u001b[1;32m~\\anaconda3\\lib\\site-packages\\pysmt\\formula.py:103\u001b[0m, in \u001b[0;36mFormulaManager._create_symbol\u001b[1;34m(self, name, typename)\u001b[0m\n\u001b[0;32m    101\u001b[0m     \u001b[38;5;28;01mraise\u001b[39;00m PysmtValueError(\u001b[38;5;124m\"\u001b[39m\u001b[38;5;124mEmpty string is not a valid name\u001b[39m\u001b[38;5;124m\"\u001b[39m)\n\u001b[0;32m    102\u001b[0m \u001b[38;5;28;01mif\u001b[39;00m \u001b[38;5;129;01mnot\u001b[39;00m \u001b[38;5;28misinstance\u001b[39m(typename, types\u001b[38;5;241m.\u001b[39mPySMTType):\n\u001b[1;32m--> 103\u001b[0m     \u001b[38;5;28;01mraise\u001b[39;00m PysmtValueError(\u001b[38;5;124m\"\u001b[39m\u001b[38;5;124mtypename must be a PySMTType.\u001b[39m\u001b[38;5;124m\"\u001b[39m)\n\u001b[0;32m    104\u001b[0m n \u001b[38;5;241m=\u001b[39m \u001b[38;5;28mself\u001b[39m\u001b[38;5;241m.\u001b[39mcreate_node(node_type\u001b[38;5;241m=\u001b[39mop\u001b[38;5;241m.\u001b[39mSYMBOL,\n\u001b[0;32m    105\u001b[0m                      args\u001b[38;5;241m=\u001b[39m\u001b[38;5;28mtuple\u001b[39m(),\n\u001b[0;32m    106\u001b[0m                      payload\u001b[38;5;241m=\u001b[39m(name, typename))\n\u001b[0;32m    107\u001b[0m \u001b[38;5;28mself\u001b[39m\u001b[38;5;241m.\u001b[39msymbols[name] \u001b[38;5;241m=\u001b[39m n\n",
      "\u001b[1;31mPysmtValueError\u001b[0m: typename must be a PySMTType."
     ]
    }
   ],
   "source": [
    "seq = [-2,1,2,-1,4,-4,-3,3]\n",
    "gera_traco(declare, init, trans, True, seq, len(seq), 10)"
   ]
  },
  {
   "cell_type": "code",
   "execution_count": null,
   "id": "aa58eedd",
   "metadata": {},
   "outputs": [],
   "source": []
  }
 ],
 "metadata": {
  "kernelspec": {
   "display_name": "Python 3 (ipykernel)",
   "language": "python",
   "name": "python3"
  },
  "language_info": {
   "codemirror_mode": {
    "name": "ipython",
    "version": 3
   },
   "file_extension": ".py",
   "mimetype": "text/x-python",
   "name": "python",
   "nbconvert_exporter": "python",
   "pygments_lexer": "ipython3",
   "version": "3.10.8"
  },
  "vscode": {
   "interpreter": {
    "hash": "50df95f242c480e55ce90ba92045ce0f86d2342b66ab0fc536312d684bc5094a"
   }
  }
 },
 "nbformat": 4,
 "nbformat_minor": 5
}
