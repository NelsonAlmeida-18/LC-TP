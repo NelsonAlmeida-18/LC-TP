{
 "cells": [
  {
   "cell_type": "markdown",
   "id": "e9089457",
   "metadata": {},
   "source": [
    "\n",
    "2. O seguinte sistema dinâmico denota 4 inversores ($$\\,A, B, C, D\\,$$) que lêm um bit num canal input e escrevem num canal output uma transformação desse bit.\n",
    "![](/static/img/pixel.gif)\n",
    "\n",
    "![](https://paper-attachments.dropboxusercontent.com/s_9896551CC5FAD2B2EB6E4EBC08522545FA66314D29FE6A5BE8E593259F8E8A37_1669554332522_inversores.png)\n",
    "\n",
    "        1. Cada inversor tem um bit $$s$$ de estado, inicializado  com um valor aleatório.\n",
    "        2. Cada inversor é regido pelas seguintes transformações\n",
    "                       $\\mathbf{invert}\\mathtt(in,out)$\n",
    "                          $x \\gets \\mathsf{read}(\\mathtt{in})$ \n",
    "                          $s \\gets \\neg x\\;\\;\\|\\;\\; s\\gets s\\oplus x$               \n",
    "                       $\\mathsf{write}(\\mathtt{out},s)$\n",
    "        iii. A escolha neste comando é sempre determinística; isto é, em cada inversor a escolha do comando a executar é sempre a mesma. Porém qual é essa escolha é determinada aleatoriamente na inicializarão do sistema.\n",
    "        iii. O estado do sistema é um duplo definido pelos 4 bits $$s$$, e é inicializado com um vetor aleatório em $$\\{0,1\\}^4\\;$$.\n",
    "        iv. O sistema termina em ERRO quando o estado do sistema for $$\\,(0,0,0,0)\\,$$.\n",
    "                    \n",
    "    1. Construa um SFOTS que descreva este sistema e implemente este sistema, numa abordagem BMC (“bouded model checker”) num traço com $$\\,n\\,$$ estados.\n",
    "    2. Verifique se o sistema é seguro usando BMC, k-indução ou model checking com interpolantes."
   ]
  },
  {
   "cell_type": "code",
   "execution_count": 8,
   "id": "51d26dfb",
   "metadata": {},
   "outputs": [],
   "source": [
    "import random as rd\n",
    "from pysmt.shortcuts import *\n",
    "from pysmt.typing import INT"
   ]
  },
  {
   "cell_type": "code",
   "execution_count": 9,
   "id": "df746aec",
   "metadata": {},
   "outputs": [],
   "source": [
    "def error(state):\n",
    "    return And(Equals(state['a'],Int(0)),Equals(state['b'], Int(0)), Equals(state['c'], Int(0)), Equals(state['d'], Int(0)))\n"
   ]
  },
  {
   "cell_type": "code",
   "execution_count": 10,
   "id": "821c6609",
   "metadata": {},
   "outputs": [],
   "source": [
    "def declare(i):\n",
    "    state = {}\n",
    "    \n",
    "    # definir variáveis\n",
    "    state['a'] = Symbol('a' + str(i),INT)\n",
    "    state['b'] = Symbol('b' + str(i),INT)\n",
    "    state['c'] = Symbol('c' + str(i),INT)\n",
    "    state['d'] = Symbol('d' + str(i),INT)\n",
    "    \n",
    "    return state"
   ]
  },
  {
   "cell_type": "code",
   "execution_count": 11,
   "id": "e6f140aa",
   "metadata": {},
   "outputs": [],
   "source": [
    "def init(state):\n",
    "    return And(\n",
    "        Equals(state['a'], Int(rd.randint(0,1))),\n",
    "        Equals(state['b'], Int(rd.randint(0,1))),\n",
    "        Equals(state['c'], Int(rd.randint(0,1))),\n",
    "        Equals(state['d'], Int(rd.randint(0,1)))\n",
    "    )"
   ]
  },
  {
   "cell_type": "code",
   "execution_count": 12,
   "id": "3fcbea5b",
   "metadata": {},
   "outputs": [],
   "source": [
    "def trans(curr, prox):\n",
    "        #transicao de a para b\n",
    "        t0=And(Not(Equals(curr['a'], curr['c'])), Not(Equals(prox['b'],curr['a'])) )\n",
    "        #transicao de b para d\n",
    "        t1=And(Not(Equals(curr['b'], curr['a'])), Not(Equals(prox['d'],curr['b'])) )\n",
    "        #transicao de d para c\n",
    "        t2=And(Not(Equals(curr['d'], curr['b'])), Not(Equals(prox['d'],curr['c'])) )\n",
    "        #transicao de c para a\n",
    "        t3=And(Not(Equals(curr['c'], curr['d'])), Not(Equals(prox['a'],curr['c'])) )\n",
    "        \n",
    "        return Or(t0,t1,t2,t3)\n"
   ]
  },
  {
   "cell_type": "code",
   "execution_count": 14,
   "id": "f57c6737",
   "metadata": {},
   "outputs": [],
   "source": [
    "def geraTraco(k):\n",
    "    with Solver(name=\"z3\") as s:\n",
    "        traco = [declare(i) for i in range(k)]\n",
    "        print(traco)"
   ]
  },
  {
   "cell_type": "code",
   "execution_count": 15,
   "id": "fb5045e2",
   "metadata": {},
   "outputs": [
    {
     "ename": "PysmtTypeError",
     "evalue": "Invalid type in constant. The type was:<class 'str'>",
     "output_type": "error",
     "traceback": [
      "\u001b[0;31m---------------------------------------------------------------------------\u001b[0m",
      "\u001b[0;31mPysmtTypeError\u001b[0m                            Traceback (most recent call last)",
      "Input \u001b[0;32mIn [15]\u001b[0m, in \u001b[0;36m<cell line: 1>\u001b[0;34m()\u001b[0m\n\u001b[0;32m----> 1\u001b[0m \u001b[43mgeraTraco\u001b[49m\u001b[43m(\u001b[49m\u001b[38;5;241;43m5\u001b[39;49m\u001b[43m)\u001b[49m\n",
      "Input \u001b[0;32mIn [14]\u001b[0m, in \u001b[0;36mgeraTraco\u001b[0;34m(k)\u001b[0m\n\u001b[1;32m      1\u001b[0m \u001b[38;5;28;01mdef\u001b[39;00m \u001b[38;5;21mgeraTraco\u001b[39m(k):\n\u001b[1;32m      2\u001b[0m     \u001b[38;5;28;01mwith\u001b[39;00m Solver(name\u001b[38;5;241m=\u001b[39m\u001b[38;5;124m\"\u001b[39m\u001b[38;5;124mz3\u001b[39m\u001b[38;5;124m\"\u001b[39m) \u001b[38;5;28;01mas\u001b[39;00m s:\n\u001b[0;32m----> 3\u001b[0m         traco \u001b[38;5;241m=\u001b[39m [declare(i) \u001b[38;5;28;01mfor\u001b[39;00m i \u001b[38;5;129;01min\u001b[39;00m \u001b[38;5;28mrange\u001b[39m(k)]\n\u001b[1;32m      4\u001b[0m         \u001b[38;5;28mprint\u001b[39m(traco)\n",
      "Input \u001b[0;32mIn [14]\u001b[0m, in \u001b[0;36m<listcomp>\u001b[0;34m(.0)\u001b[0m\n\u001b[1;32m      1\u001b[0m \u001b[38;5;28;01mdef\u001b[39;00m \u001b[38;5;21mgeraTraco\u001b[39m(k):\n\u001b[1;32m      2\u001b[0m     \u001b[38;5;28;01mwith\u001b[39;00m Solver(name\u001b[38;5;241m=\u001b[39m\u001b[38;5;124m\"\u001b[39m\u001b[38;5;124mz3\u001b[39m\u001b[38;5;124m\"\u001b[39m) \u001b[38;5;28;01mas\u001b[39;00m s:\n\u001b[0;32m----> 3\u001b[0m         traco \u001b[38;5;241m=\u001b[39m [\u001b[43mdeclare\u001b[49m\u001b[43m(\u001b[49m\u001b[43mi\u001b[49m\u001b[43m)\u001b[49m \u001b[38;5;28;01mfor\u001b[39;00m i \u001b[38;5;129;01min\u001b[39;00m \u001b[38;5;28mrange\u001b[39m(k)]\n\u001b[1;32m      4\u001b[0m         \u001b[38;5;28mprint\u001b[39m(traco)\n",
      "Input \u001b[0;32mIn [10]\u001b[0m, in \u001b[0;36mdeclare\u001b[0;34m(i)\u001b[0m\n\u001b[1;32m      2\u001b[0m state \u001b[38;5;241m=\u001b[39m {}\n\u001b[1;32m      4\u001b[0m \u001b[38;5;66;03m# definir variáveis\u001b[39;00m\n\u001b[0;32m----> 5\u001b[0m state[\u001b[38;5;124m'\u001b[39m\u001b[38;5;124ma\u001b[39m\u001b[38;5;124m'\u001b[39m] \u001b[38;5;241m=\u001b[39m \u001b[43mInt\u001b[49m\u001b[43m(\u001b[49m\u001b[38;5;124;43m'\u001b[39;49m\u001b[38;5;124;43ma\u001b[39;49m\u001b[38;5;124;43m'\u001b[39;49m\u001b[43m \u001b[49m\u001b[38;5;241;43m+\u001b[39;49m\u001b[43m \u001b[49m\u001b[38;5;28;43mstr\u001b[39;49m\u001b[43m(\u001b[49m\u001b[43mi\u001b[49m\u001b[43m)\u001b[49m\u001b[43m)\u001b[49m\n\u001b[1;32m      6\u001b[0m state[\u001b[38;5;124m'\u001b[39m\u001b[38;5;124mb\u001b[39m\u001b[38;5;124m'\u001b[39m] \u001b[38;5;241m=\u001b[39m Int(\u001b[38;5;124m'\u001b[39m\u001b[38;5;124mb\u001b[39m\u001b[38;5;124m'\u001b[39m \u001b[38;5;241m+\u001b[39m \u001b[38;5;28mstr\u001b[39m(i))\n\u001b[1;32m      7\u001b[0m state[\u001b[38;5;124m'\u001b[39m\u001b[38;5;124mc\u001b[39m\u001b[38;5;124m'\u001b[39m] \u001b[38;5;241m=\u001b[39m Int(\u001b[38;5;124m'\u001b[39m\u001b[38;5;124mc\u001b[39m\u001b[38;5;124m'\u001b[39m \u001b[38;5;241m+\u001b[39m \u001b[38;5;28mstr\u001b[39m(i))\n",
      "File \u001b[0;32m~/opt/anaconda3/lib/python3.9/site-packages/pysmt/shortcuts.py:262\u001b[0m, in \u001b[0;36mInt\u001b[0;34m(value)\u001b[0m\n\u001b[1;32m    256\u001b[0m \u001b[38;5;28;01mdef\u001b[39;00m \u001b[38;5;21mInt\u001b[39m(value):\n\u001b[1;32m    257\u001b[0m     \u001b[38;5;124;03m\"\"\"Returns an Integer constant with the given value.\u001b[39;00m\n\u001b[1;32m    258\u001b[0m \n\u001b[1;32m    259\u001b[0m \u001b[38;5;124;03m    :param value: Specify the value\u001b[39;00m\n\u001b[1;32m    260\u001b[0m \u001b[38;5;124;03m    :returns: An Integer constant with the given value\u001b[39;00m\n\u001b[1;32m    261\u001b[0m \u001b[38;5;124;03m    \"\"\"\u001b[39;00m\n\u001b[0;32m--> 262\u001b[0m     \u001b[38;5;28;01mreturn\u001b[39;00m \u001b[43mget_env\u001b[49m\u001b[43m(\u001b[49m\u001b[43m)\u001b[49m\u001b[38;5;241;43m.\u001b[39;49m\u001b[43mformula_manager\u001b[49m\u001b[38;5;241;43m.\u001b[39;49m\u001b[43mInt\u001b[49m\u001b[43m(\u001b[49m\u001b[43mvalue\u001b[49m\u001b[43m)\u001b[49m\n",
      "File \u001b[0;32m~/opt/anaconda3/lib/python3.9/site-packages/pysmt/formula.py:372\u001b[0m, in \u001b[0;36mFormulaManager.Int\u001b[0;34m(self, value)\u001b[0m\n\u001b[1;32m    370\u001b[0m     val \u001b[38;5;241m=\u001b[39m pysmt_integer_from_integer(value)\n\u001b[1;32m    371\u001b[0m \u001b[38;5;28;01melse\u001b[39;00m:\n\u001b[0;32m--> 372\u001b[0m     \u001b[38;5;28;01mraise\u001b[39;00m PysmtTypeError(\u001b[38;5;124m\"\u001b[39m\u001b[38;5;124mInvalid type in constant. The type was:\u001b[39m\u001b[38;5;124m\"\u001b[39m \u001b[38;5;241m+\u001b[39m \\\n\u001b[1;32m    373\u001b[0m                          \u001b[38;5;28mstr\u001b[39m(\u001b[38;5;28mtype\u001b[39m(value)))\n\u001b[1;32m    374\u001b[0m n \u001b[38;5;241m=\u001b[39m \u001b[38;5;28mself\u001b[39m\u001b[38;5;241m.\u001b[39mcreate_node(node_type\u001b[38;5;241m=\u001b[39mop\u001b[38;5;241m.\u001b[39mINT_CONSTANT,\n\u001b[1;32m    375\u001b[0m                      args\u001b[38;5;241m=\u001b[39m\u001b[38;5;28mtuple\u001b[39m(),\n\u001b[1;32m    376\u001b[0m                      payload\u001b[38;5;241m=\u001b[39mval)\n\u001b[1;32m    377\u001b[0m \u001b[38;5;28mself\u001b[39m\u001b[38;5;241m.\u001b[39mint_constants[value] \u001b[38;5;241m=\u001b[39m n\n",
      "\u001b[0;31mPysmtTypeError\u001b[0m: Invalid type in constant. The type was:<class 'str'>"
     ]
    }
   ],
   "source": [
    "geraTraco(5)"
   ]
  },
  {
   "cell_type": "code",
   "execution_count": null,
   "id": "1f43837e",
   "metadata": {},
   "outputs": [],
   "source": []
  }
 ],
 "metadata": {
  "kernelspec": {
   "display_name": "Python 3 (ipykernel)",
   "language": "python",
   "name": "python3"
  },
  "language_info": {
   "codemirror_mode": {
    "name": "ipython",
    "version": 3
   },
   "file_extension": ".py",
   "mimetype": "text/x-python",
   "name": "python",
   "nbconvert_exporter": "python",
   "pygments_lexer": "ipython3",
   "version": "3.9.12"
  }
 },
 "nbformat": 4,
 "nbformat_minor": 5
}
