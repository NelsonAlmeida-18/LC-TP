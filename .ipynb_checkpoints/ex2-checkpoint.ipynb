{
 "cells": [
  {
   "cell_type": "markdown",
   "id": "ca29e75f",
   "metadata": {},
   "source": [
    "2. Na criptografia pós-quântica os reticulados inteiros (“hard lattices”) e os problemas a eles associados são uma componente essencial. Um reticulado inteiro pode ser definido por uma matriz $$;\\mathsf{L} \\in \\mathbb{Z}^{m\\times n};$$ (com $;m > n;$) de inteiros e por um inteiro primo $;q\\geq 3;$.\n",
    "\n",
    "\n",
    "O chamado problema do vetor curto  (SVP) consiste  no cálculo de um vetor de inteiros $$;e\\in {-1,0,1}^m;$$ não nulo que  verifique a seguinte relação matricial $$\\forall,i < n,\\centerdot,$$ $$\\sum_{j<m},ej,\\times,\\mathsf{L}{j,i};\\equiv;0\\mod q$$\n",
    "\n",
    "\n",
    "a. Pretende-se resolver o SVP por programação inteira dentro das seguintes condições\n",
    "\n",
    "i. Os valores  $,m,,,n,,,q,$ são escolhidos com $,n > 30,$, $,|m| > 1 + |n|;$ e $,|q| > |m|,$. \n",
    "\n",
    "ii. Os elementos $;\\mathsf{L}_{j,i};$ são gerados aleatória e uniformemente no intervalo inteiro $,{-d \\cdots d}$ sendo $$;d\\equiv (q-1)/2;$$\n",
    "\n",
    "b. Pretende-se determinar em, em primeiro lugar, se existe um vetor $,e,$ não nulo (pelo menos um dos $,e_j,$ é diferente de zero). Se existir $,e,$ pretende-se calcular o vetor que minimiza o número de componentes não nulas."
   ]
  },
  {
   "cell_type": "code",
   "execution_count": 5,
   "id": "d042211f",
   "metadata": {},
   "outputs": [],
   "source": [
    "#restrições = abs(m) >1+abs(n) and abs(q)>abs(m)\n",
    "#d ≡ (q-1)/2 <=> a = kn+b\n",
    "\n",
    "#objetivo -> se é possível um vetor não nulo (sum(vetor)>0), caso exista \n",
    "#minimizar o numero de elementos nulos"
   ]
  },
  {
   "cell_type": "code",
   "execution_count": 6,
   "id": "96c77b8e",
   "metadata": {},
   "outputs": [
    {
     "ename": "ModuleNotFoundError",
     "evalue": "No module named 'gmpy2'",
     "output_type": "error",
     "traceback": [
      "\u001b[1;31m---------------------------------------------------------------------------\u001b[0m",
      "\u001b[1;31mModuleNotFoundError\u001b[0m                       Traceback (most recent call last)",
      "Input \u001b[1;32mIn [6]\u001b[0m, in \u001b[0;36m<cell line: 4>\u001b[1;34m()\u001b[0m\n\u001b[0;32m      2\u001b[0m \u001b[38;5;28;01mfrom\u001b[39;00m \u001b[38;5;21;01mrandom\u001b[39;00m \u001b[38;5;28;01mimport\u001b[39;00m randint\n\u001b[0;32m      3\u001b[0m \u001b[38;5;28;01mfrom\u001b[39;00m \u001b[38;5;21;01mmath\u001b[39;00m   \u001b[38;5;28;01mimport\u001b[39;00m floor, log\n\u001b[1;32m----> 4\u001b[0m \u001b[38;5;28;01mfrom\u001b[39;00m \u001b[38;5;21;01mgmpy2\u001b[39;00m  \u001b[38;5;28;01mimport\u001b[39;00m next_prime\n\u001b[0;32m      6\u001b[0m model \u001b[38;5;241m=\u001b[39m cp_model\u001b[38;5;241m.\u001b[39mCpModel()\n\u001b[0;32m      8\u001b[0m m \u001b[38;5;241m=\u001b[39m \u001b[38;5;241m3\u001b[39m\n",
      "\u001b[1;31mModuleNotFoundError\u001b[0m: No module named 'gmpy2'"
     ]
    }
   ],
   "source": [
    "from ortools.sat.python import cp_model\n",
    "from random import randint\n",
    "from math   import floor, log\n",
    "# from gmpy2  import next_prime\n",
    "\n",
    "model = cp_model.CpModel()"
   ]
  },
  {
   "cell_type": "code",
   "execution_count": 7,
   "id": "6ec88edf",
   "metadata": {},
   "outputs": [
    {
     "ename": "NameError",
     "evalue": "name 'm' is not defined",
     "output_type": "error",
     "traceback": [
      "\u001b[1;31m---------------------------------------------------------------------------\u001b[0m",
      "\u001b[1;31mNameError\u001b[0m                                 Traceback (most recent call last)",
      "Input \u001b[1;32mIn [7]\u001b[0m, in \u001b[0;36m<cell line: 4>\u001b[1;34m()\u001b[0m\n\u001b[0;32m      1\u001b[0m \u001b[38;5;66;03m#construção da matriz de reticulado\u001b[39;00m\n\u001b[0;32m      3\u001b[0m L\u001b[38;5;241m=\u001b[39m{}\n\u001b[1;32m----> 4\u001b[0m \u001b[38;5;28;01mfor\u001b[39;00m j \u001b[38;5;129;01min\u001b[39;00m \u001b[38;5;28mrange\u001b[39m(\u001b[43mm\u001b[49m):\n\u001b[0;32m      5\u001b[0m     \u001b[38;5;28;01mfor\u001b[39;00m i \u001b[38;5;129;01min\u001b[39;00m \u001b[38;5;28mrange\u001b[39m(n):\n\u001b[0;32m      6\u001b[0m         L[j,i] \u001b[38;5;241m=\u001b[39m randint(\u001b[38;5;241m-\u001b[39md, d\u001b[38;5;241m+\u001b[39m\u001b[38;5;241m1\u001b[39m)\n",
      "\u001b[1;31mNameError\u001b[0m: name 'm' is not defined"
     ]
    }
   ],
   "source": [
    "#construção da matriz de reticulado\n",
    "\n",
    "L={}\n",
    "for j in range(m):\n",
    "    for i in range(n):\n",
    "        L[j,i] = randint(-d, d+1)\n",
    "        \n",
    "print(L)\n",
    "        \n",
    "# Vetor de alocação\n",
    "e = [model.NewIntVar(-1, 1, f\"e[{j}]\") for j in range(m)]"
   ]
  },
  {
   "cell_type": "code",
   "execution_count": 2,
   "id": "b9e7e977",
   "metadata": {},
   "outputs": [],
   "source": [
    "#restrições\n",
    "\n"
   ]
  },
  {
   "cell_type": "code",
   "execution_count": null,
   "id": "570154f7",
   "metadata": {},
   "outputs": [],
   "source": []
  }
 ],
 "metadata": {
  "kernelspec": {
   "display_name": "Python 3 (ipykernel)",
   "language": "python",
   "name": "python3"
  },
  "language_info": {
   "codemirror_mode": {
    "name": "ipython",
    "version": 3
   },
   "file_extension": ".py",
   "mimetype": "text/x-python",
   "name": "python",
   "nbconvert_exporter": "python",
   "pygments_lexer": "ipython3",
   "version": "3.9.12"
  }
 },
 "nbformat": 4,
 "nbformat_minor": 5
}
