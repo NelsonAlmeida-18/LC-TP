{
 "cells": [
  {
   "cell_type": "markdown",
   "id": "d625b316",
   "metadata": {},
   "source": [
    "# TP3 - Problema 1"
   ]
  },
  {
   "cell_type": "markdown",
   "id": "a78196ee",
   "metadata": {},
   "source": [
    "### Grupo 11\n",
    "\n",
    "Nelson Almeida a95652\n",
    "<br>\n",
    "Nuno Costa a97610"
   ]
  },
  {
   "cell_type": "markdown",
   "id": "4dc796b2",
   "metadata": {},
   "source": [
    "\n",
    "Pretende-se construir uma implementação simplificada do algoritmo “model checking” orientado aos interpolantes seguindo a estrutura apresentada nos apontamentos onde no passo $$(n,m)\\,$$na impossibilidade de encontrar um interpolante invariante se dá ao utilizador a possibilidade de incrementar um dos índices $$n$$ e $$m$$ à sua escolha.\n",
    "Pretende-se aplicar este algoritmo ao problema da da multiplicação de inteiros positivos em `BitVec`  (apresentado no TP2).\n"
   ]
  },
  {
   "cell_type": "code",
   "execution_count": 111,
   "id": "f6d7614d",
   "metadata": {},
   "outputs": [],
   "source": [
    "from pysmt.shortcuts import *\n",
    "from pysmt.typing import INT\n",
    "\n",
    "import itertools "
   ]
  },
  {
   "cell_type": "code",
   "execution_count": 112,
   "id": "8c295744",
   "metadata": {},
   "outputs": [],
   "source": [
    "def genState(vars,s,i):\n",
    "    state = {}\n",
    "    for v in vars:\n",
    "        state[v] = Symbol(v+'!'+s+str(i),INT)\n",
    "    return state"
   ]
  },
  {
   "cell_type": "code",
   "execution_count": 113,
   "id": "00db46db",
   "metadata": {},
   "outputs": [],
   "source": [
    "def declare(i, n):\n",
    "    state = {}\n",
    "    \n",
    "    # definir variáveis\n",
    "    state['node'] = Symbol('node' + str(i), INT)\n",
    "    state['x'] = Symbol('x' + str(i), BVType(n))\n",
    "    state['y'] = Symbol('y' + str(i), BVType(n))\n",
    "    state['z'] = Symbol('z' + str(i), BVType(n))\n",
    "    \n",
    "    return state"
   ]
  },
  {
   "cell_type": "code",
   "execution_count": 114,
   "id": "5cce7653",
   "metadata": {},
   "outputs": [],
   "source": [
    "def init(state,a,b):\n",
    "    return And(\n",
    "        Equals(state['node'], Int(0)),\n",
    "        Equals(state['x'], Int(a)),\n",
    "        Equals(state['y'], Int(b)),\n",
    "        Equals(state['z'], Int(0))\n",
    "    )"
   ]
  },
  {
   "cell_type": "code",
   "execution_count": 140,
   "id": "21bf4bf3",
   "metadata": {},
   "outputs": [],
   "source": [
    "def even(atual):\n",
    "    return Equals(Times(Div(atual['y'],Int(2)),Int(2)), atual['y'] )\n"
   ]
  },
  {
   "cell_type": "code",
   "execution_count": 155,
   "id": "78c7564f",
   "metadata": {},
   "outputs": [],
   "source": [
    "def trans(atual, prox):\n",
    "    # 𝑛𝑜𝑑𝑒=0 ∧ ( 𝑦≠0 ∧ 𝑒𝑣𝑒𝑛(𝑦) ) ∧ 𝑛𝑜𝑑𝑒′=1 ∧ 𝑥′=𝑥 ∧ 𝑦′=𝑦 ∧ 𝑧′=𝑧\n",
    "    t0 = And(\n",
    "        Equals(atual['node'], Int(0)),\n",
    "        NotEquals(atual['y'], Int(0)),\n",
    "        even(atual),\n",
    "        Equals(prox['node'], Int(1)),\n",
    "        Equals(prox['x'], atual['x']),\n",
    "        Equals(prox['y'], atual['y']),\n",
    "        Equals(prox['z'], atual['z'])\n",
    "    )\n",
    "    \n",
    "    # 𝑛𝑜𝑑𝑒=0 ∧ 𝑦=0 ∧ 𝑛𝑜d𝑒′=2 ∧ 𝑥′=𝑥 ∧ 𝑦′=𝑦 ∧ 𝑧′=𝑧\n",
    "    t1 = And(\n",
    "        Equals(atual['node'], Int(0)),\n",
    "        Equals(atual['y'], Int(0)),\n",
    "        Equals(prox['node'], Int(2)),\n",
    "        Equals(prox['x'], atual['x']),\n",
    "        Equals(prox['y'], atual['y']),\n",
    "        Equals(prox['z'], atual['z'])\n",
    "    )\n",
    "    \n",
    "    # 𝑛𝑜𝑑𝑒=0 ∧ ( 𝑦≠0 ∧ 𝑜𝑑𝑑(𝑦) ) ∧ 𝑛𝑜𝑑𝑒′=3 ∧ 𝑥′=𝑥 ∧ 𝑦′=𝑦 ∧ 𝑧′=𝑧\n",
    "    t2 = And(\n",
    "        Equals(atual['node'], Int(0)),\n",
    "        Not(Equals(atual['y'], Int(0))),\n",
    "        Not(even(atual)),\n",
    "        Equals(prox['node'], Int(3)),\n",
    "        Equals(prox['x'], atual['x']),\n",
    "        Equals(prox['y'], atual['y']),\n",
    "        Equals(prox['z'], atual['z'])\n",
    "    )\n",
    "    \n",
    "    # 𝑛𝑜𝑑𝑒=1 ∧ 𝑛𝑜𝑑𝑒′=0 ∧ 𝑥'=2∗𝑥 ∧ 𝑦'=𝑦/2 ∧ 𝑧'=𝑧\n",
    "    t3 = And(\n",
    "        Equals(atual['node'], Int(1)),\n",
    "        Equals(prox['node'], Int(0)),\n",
    "        Equals(prox['x'], 2*atual['x']),\n",
    "        Equals(prox['y'], atual['y']/2),\n",
    "        Equals(prox['z'], atual['z'])\n",
    "    )\n",
    "\n",
    "    # 𝑛𝑜𝑑𝑒=3 ∧ 𝑛𝑜𝑑𝑒′=0 ∧ 𝑥′=𝑥 ∧ 𝑦′=𝑦−1 ∧ 𝑧′=𝑧+𝑥\n",
    "    t4 = And(\n",
    "        Equals(atual['node'], Int(3)),\n",
    "        Equals(prox['node'], Int(0)),\n",
    "        Equals(prox['x'], atual['x']),\n",
    "        Equals(prox['y'], atual['y']-Int(1)),\n",
    "        Equals(prox['z'], atual['z']+atual['x'])\n",
    "    )\n",
    "      \n",
    "    # 𝑛𝑜𝑑𝑒=1 ∧ 𝑛𝑜𝑑𝑒′=4 ∧ 𝑜𝑣𝑒𝑟𝑓𝑙𝑜𝑤 ∧ 𝑥′=𝑥 ∧ 𝑦′=𝑦 ∧ 𝑧′=z\n",
    "    t5 = And(\n",
    "        Equals(atual['node'], Int(1)),\n",
    "        Equals(prox['node'], Int(4)),\n",
    "        Equals(prox['x'], atual['x']),\n",
    "        Equals(prox['y'], atual['y']),\n",
    "        Equals(prox['z'], atual['z'])\n",
    "    )\n",
    "    \n",
    "    # 𝑛𝑜𝑑𝑒=3 ∧ 𝑛𝑜𝑑𝑒′=5 ∧ 𝑜𝑣𝑒𝑟𝑓𝑙𝑜𝑤 ∧ 𝑥′=𝑥 ∧ 𝑦′=𝑦 ∧ 𝑧′=𝑧\n",
    "    t6 = And(\n",
    "        Equals(atual['node'], Int(3)),\n",
    "        Equals(prox['node'], Int(5)),\n",
    "        Equals(prox['x'], atual['x']),\n",
    "        Equals(prox['y'], atual['y']),\n",
    "        Equals(prox['z'], atual['z'])\n",
    "    )\n",
    "    \n",
    "    # 𝑛𝑜𝑑𝑒=4 ∧ 𝑛𝑜𝑑𝑒′=4 ∧ 𝑥′=𝑥 ∧ 𝑦′=𝑦 ∧ 𝑧′=𝑧\n",
    "    t7 = And(\n",
    "        Equals(atual['node'], Int(4)),\n",
    "        Equals(prox['node'], Int(4)),\n",
    "        Equals(prox['x'], atual['x']),\n",
    "        Equals(prox['y'], atual['y']),\n",
    "        Equals(prox['z'], atual['z'])\n",
    "    )\n",
    "    \n",
    "    # 𝑛𝑜𝑑𝑒=5 ∧ 𝑛𝑜𝑑𝑒′=5 ∧ 𝑥′=𝑥 ∧ 𝑦′=𝑦 ∧ 𝑧′=𝑧\n",
    "    t8 = And(\n",
    "        Equals(atual['node'], Int(5)),\n",
    "        Equals(prox['node'], Int(5)),\n",
    "        Equals(prox['x'], atual['x']),\n",
    "        Equals(prox['y'], atual['y']),\n",
    "        Equals(prox['z'], atual['z'])\n",
    "    )\n",
    "    \n",
    "    # 𝑛𝑜𝑑𝑒=2 ∧ 𝑛𝑜𝑑𝑒′=2 ∧ 𝑥′=𝑥 ∧ 𝑦′=𝑦 ∧ 𝑧′=𝑧\n",
    "    t9 = And(\n",
    "        Equals(atual['node'], Int(2)),\n",
    "        Equals(prox['node'], Int(2)),\n",
    "        Equals(prox['x'], atual['x']),\n",
    "        Equals(prox['y'], atual['y']),\n",
    "        Equals(prox['z'], atual['z'])\n",
    "    )\n",
    "    \n",
    "    return Or(t0, t1, t2, t3, t4, t5, t6, t7, t8, t9)"
   ]
  },
  {
   "cell_type": "code",
   "execution_count": 156,
   "id": "2a0651ae",
   "metadata": {},
   "outputs": [],
   "source": [
    "def error(state): ##TO DEFINE\n",
    "    return Ite(Equals(state['pc'], Int(2)))"
   ]
  },
  {
   "cell_type": "code",
   "execution_count": 157,
   "id": "9eb5545e",
   "metadata": {},
   "outputs": [],
   "source": [
    "def genState(vars,s,i):\n",
    "    state = {}\n",
    "    for v in vars:\n",
    "        state[v] = Symbol(v+'!'+s+str(i), INT)\n",
    "    return state"
   ]
  },
  {
   "cell_type": "code",
   "execution_count": 158,
   "id": "98a32945",
   "metadata": {},
   "outputs": [],
   "source": [
    "def genTrace(vars, init, trans,x,y,n):\n",
    "    with Solver(name=\"z3\") as s:\n",
    "\n",
    "        X=[genState(vars,\"X\",i) for i in range(n+1)]\n",
    "        I = init(X[0],x,y)\n",
    "        Tks = [trans(X[i],X[i+1]) for i in range(n)]\n",
    "\n",
    "        if s.solve([I,And(Tks)]):      # testa se I /\\ T^n  é satisfazível\n",
    "            for i in range(n):\n",
    "                print(\"Estado:\",i)\n",
    "                for v in X[i]:\n",
    "                    print(\"          \",v,'=',s.get_value(X[i][v]))"
   ]
  },
  {
   "cell_type": "code",
   "execution_count": 159,
   "id": "5bf6fdc8",
   "metadata": {},
   "outputs": [
    {
     "name": "stdout",
     "output_type": "stream",
     "text": [
      "Estado: 0\n",
      "           node = 0\n",
      "           x = 5\n",
      "           y = 2\n",
      "           z = 0\n",
      "Estado: 1\n",
      "           node = 1\n",
      "           x = 5\n",
      "           y = 2\n",
      "           z = 0\n",
      "Estado: 2\n",
      "           node = 0\n",
      "           x = 10\n",
      "           y = 1\n",
      "           z = 0\n",
      "Estado: 3\n",
      "           node = 3\n",
      "           x = 10\n",
      "           y = 1\n",
      "           z = 0\n",
      "Estado: 4\n",
      "           node = 5\n",
      "           x = 10\n",
      "           y = 1\n",
      "           z = 0\n"
     ]
    }
   ],
   "source": [
    "x=5\n",
    "y=2\n",
    "n=5\n",
    "genTrace(['node','x','y','z'],init,trans,x,y,n)"
   ]
  },
  {
   "cell_type": "code",
   "execution_count": null,
   "id": "b1b4e346",
   "metadata": {},
   "outputs": [],
   "source": []
  },
  {
   "cell_type": "code",
   "execution_count": null,
   "id": "520cb806",
   "metadata": {},
   "outputs": [],
   "source": []
  }
 ],
 "metadata": {
  "kernelspec": {
   "display_name": "Python 3 (ipykernel)",
   "language": "python",
   "name": "python3"
  },
  "language_info": {
   "codemirror_mode": {
    "name": "ipython",
    "version": 3
   },
   "file_extension": ".py",
   "mimetype": "text/x-python",
   "name": "python",
   "nbconvert_exporter": "python",
   "pygments_lexer": "ipython3",
   "version": "3.9.12"
  }
 },
 "nbformat": 4,
 "nbformat_minor": 5
}
