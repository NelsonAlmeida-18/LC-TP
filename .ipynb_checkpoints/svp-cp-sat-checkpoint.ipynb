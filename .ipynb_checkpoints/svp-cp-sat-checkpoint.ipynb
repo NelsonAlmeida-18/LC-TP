{
 "cells": [
  {
   "cell_type": "code",
   "execution_count": 1,
   "id": "29102bab",
   "metadata": {},
   "outputs": [],
   "source": [
    "from ortools.sat.python import cp_model\n",
    "from random import randint\n",
    "from math   import floor, log\n",
    "from gmpy2  import next_prime\n",
    "\n",
    "model = cp_model.CpModel()\n",
    "\n",
    "N = 2                         # dimensão do problema"
   ]
  },
  {
   "cell_type": "code",
   "execution_count": 2,
   "id": "2662d5c0",
   "metadata": {},
   "outputs": [
    {
     "name": "stdout",
     "output_type": "stream",
     "text": [
      "11 37 41\n"
     ]
    }
   ],
   "source": [
    "n = next_prime(2**N)\n",
    "m = next_prime(n * N)\n",
    "q = next_prime(m+1)\n",
    "d = (q - 1) // 2\n",
    "\n",
    "print(n,m,q)"
   ]
  },
  {
   "cell_type": "code",
   "execution_count": 3,
   "id": "2ea20c3c",
   "metadata": {},
   "outputs": [],
   "source": [
    "L = {}\n",
    "for j in range(m):\n",
    "    for i in range(n):\n",
    "        L[j, i] = randint(-d, d+1)\n",
    "\n",
    "\n",
    "# Vetor de alocação\n",
    "e = [model.NewIntVar(-1, 1, f\"e[{j}]\") for j in range(m)]\n"
   ]
  },
  {
   "cell_type": "code",
   "execution_count": 4,
   "id": "3d364b45",
   "metadata": {},
   "outputs": [],
   "source": [
    "# restrições\n",
    "for i in range(n):\n",
    "\tK = model.NewIntVar(0, q, f'k[{i}]')\n",
    "\tmodel.Add(sum(e[j] * L[j, i] for j in range(m)) == K * q)\n",
    "\n",
    "u = [ model.NewIntVar(0, 1, f'U[{j}]') for j in range(m) ]\n",
    "\n",
    "for j in range(m):\n",
    "\tmodel.AddAbsEquality(u[j], e[j])\n",
    "\n",
    "model.Add(sum(u) > 0)\n",
    "model.Minimize(sum(u))"
   ]
  },
  {
   "cell_type": "code",
   "execution_count": null,
   "id": "0ade079e",
   "metadata": {},
   "outputs": [],
   "source": [
    "solver = cp_model.CpSolver()\n",
    "status = solver.Solve(model)\n",
    "\n",
    "if status == cp_model.OPTIMAL or status == cp_model.FEASIBLE:\n",
    "    # print('x = %i' % solver.Value(x))\n",
    "    # print('y = %i' % solver.Value(y))\n",
    "    # print('z = %i' % solver.Value(z))\n",
    "\tprint('e = ', end='')\n",
    "\tfor j in range(m):\n",
    "\t\tprint(solver.Value(e[j]), end=' ')\n",
    "\tprint()\n",
    "\n",
    "\tprint('u = ', end='')\n",
    "\tfor j in range(m):\n",
    "\t\tprint(solver.Value(u[j]), end=' ')\n",
    "\t\n",
    "\tprint()\n",
    "else:\n",
    "    print('No solution found.')"
   ]
  },
  {
   "cell_type": "code",
   "execution_count": null,
   "id": "f73ea1aa",
   "metadata": {},
   "outputs": [],
   "source": []
  }
 ],
 "metadata": {
  "kernelspec": {
   "display_name": "Python 3 (ipykernel)",
   "language": "python",
   "name": "python3"
  },
  "language_info": {
   "codemirror_mode": {
    "name": "ipython",
    "version": 3
   },
   "file_extension": ".py",
   "mimetype": "text/x-python",
   "name": "python",
   "nbconvert_exporter": "python",
   "pygments_lexer": "ipython3",
   "version": "3.9.12"
  }
 },
 "nbformat": 4,
 "nbformat_minor": 5
}
