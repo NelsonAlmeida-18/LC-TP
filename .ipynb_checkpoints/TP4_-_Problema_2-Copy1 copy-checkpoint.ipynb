{
 "cells": [
  {
   "cell_type": "markdown",
   "id": "081d38ea",
   "metadata": {},
   "source": [
    "# TP4- Problema 2"
   ]
  },
  {
   "cell_type": "markdown",
   "id": "c2df3580",
   "metadata": {},
   "source": [
    "### Grupo 11\n",
    "\n",
    "Nelson Almeida a95652\n",
    "<br>\n",
    "Nuno Costa a97610"
   ]
  },
  {
   "cell_type": "markdown",
   "id": "111a3c63",
   "metadata": {},
   "source": [
    "O programa Python seguinte implementa o algoritmo de $bubble sort$ para ordenação $in situ$ de um array de inteiros seq."
   ]
  },
  {
   "cell_type": "code",
   "execution_count": 3,
   "id": "db854603",
   "metadata": {},
   "outputs": [],
   "source": [
    "seq = [-2,1,2,-1,4,-4,-3,3]\n",
    "\n",
    "changed = True\n",
    "while changed:\n",
    "    changed = False\n",
    "    for i in range(len(seq) - 1):\n",
    "        if seq[i] > seq[i+1]:\n",
    "            seq[i], seq[i+1] = seq[i+1], seq[i]\n",
    "            changed = True\n",
    "pass "
   ]
  },
  {
   "cell_type": "markdown",
   "id": "3a23f2c0",
   "metadata": {},
   "source": [
    "1. Defina a pré-condição e a pós-condição que descrevem a especificação deste algoritmo.\n",
    "2. O ciclo `for` pode ser descrito por uma transição $\\,\\mathtt{seq}\\gets \\mathit{exp}(\\mathtt{seq})\\,$. Construa uma relação de transição $\\;\\mathsf{trans}(\\mathtt{seq},\\mathtt{seq}')\\,$ que modele esta atribuição.\n",
    "3. Usando a técnica que lhe parecer mais conveniente verifique a correção do algoritmo."
   ]
  },
  {
   "cell_type": "markdown",
   "id": "63a23344",
   "metadata": {},
   "source": [
    "### Resolução"
   ]
  },
  {
   "cell_type": "markdown",
   "id": "e91676fe",
   "metadata": {},
   "source": [
    "Começamos por importar o módulo pysmt.shortcuts que disponibiliza as funcionalidades para a utilização usual de um SMTsolver. Os tipos estão definidos no módulo pysmt.typing de onde temos que importar o tipo INT."
   ]
  },
  {
   "cell_type": "code",
   "execution_count": 41,
   "id": "7effab1d",
   "metadata": {},
   "outputs": [],
   "source": [
    "from z3 import *"
   ]
  },
  {
   "cell_type": "markdown",
   "id": "ff526c3e",
   "metadata": {},
   "source": [
    "Começemos por definir a pré-condição e a pós-condição.\n",
    "\n",
    "```python\n",
    "Sejam pre = changed == True\n",
    "      pos = changed == False and ( forall i . 0 <= i < len(seq)-1 -> seq[i] <= seq[i+1] )\n",
    "```"
   ]
  },
  {
   "cell_type": "markdown",
   "id": "0431bda5",
   "metadata": {},
   "source": [
    "O estado inicial é caracterizado pelo seguinte predicado:\n",
    "\n",
    "$$ node = 0 \\land changed = True  $$\n",
    "\n",
    "As transições possíveis são caracterizadas pelos seguintes predicados:\n",
    "\n",
    "$$ node = 0 \\land pos = False \\land node' = 1 \\land seq' = seq \\land changed' = changed $$\n"
   ]
  },
  {
   "cell_type": "code",
   "execution_count": 42,
   "id": "9fe7f7c1",
   "metadata": {},
   "outputs": [],
   "source": [
    "def declare(i, n):\n",
    "    state = {}\n",
    "    \n",
    "    state['changed'] = Int('changed')\n",
    "    \n",
    "    state['seq'] = {}\n",
    "    for j in range(n):\n",
    "        state['seq' + str(j)] = Int('seq' + str(j))\n",
    "    \n",
    "    return state"
   ]
  },
  {
   "cell_type": "code",
   "execution_count": 43,
   "id": "8573fd44",
   "metadata": {},
   "outputs": [],
   "source": [
    "def init(state, lista):\n",
    "    states = []\n",
    "\n",
    "    for i in range(len(lista)-1):\n",
    "        states.append(state[f\"seq{i}\"]==lista[i])\n",
    "    states.append(state[\"changed\"]==1)\n",
    "\n",
    "    return And(states)\n",
    "        "
   ]
  },
  {
   "cell_type": "code",
   "execution_count": 57,
   "id": "e038e5a2",
   "metadata": {},
   "outputs": [],
   "source": [
    "def Equals(l,r):\n",
    "    return l==r\n",
    "\n",
    "def Ite(cond, l, r):\n",
    "    if (cond):\n",
    "        return l\n",
    "    else:\n",
    "        r\n",
    "    \n",
    "def constEntra(curr,prox,n):\n",
    "    conds = []\n",
    "    for i in range(n):\n",
    "        conds.append(Equals(prox[f\"seq{i}\"],curr[f\"seq{i}\"]))\n",
    "    conds.append(Equals(prox[\"changed\"], Int(0) ))\n",
    "                     \n",
    "    return And(conds)\n",
    "                     \n",
    "def const(curr, prox,n):\n",
    "    conds = []\n",
    "    for i in range(n):\n",
    "        conds.append(Equals(prox[f\"seq{i}\"],curr[f\"seq{i}\"]))\n",
    "    conds.append(Equals(prox[\"changed\"], curr[\"changed\"]  ))\n",
    "    \n",
    "    return And(conds)\n",
    "\n",
    "def trans(curr, prox, n):\n",
    "    condsTrans = []\n",
    "    \n",
    "        \n",
    "    entraNoCicloFor = Ite(Not(Equals(curr[\"changed\"], Int(0)))\n",
    "                        ,\n",
    "                        constEntra(curr,prox,n), #entra no ciclo\n",
    "                        const(curr,prox,n) #morre\n",
    "                        )\n",
    "    cicloFor = []\n",
    "    for i in range(n-2):\n",
    "        instrucao = And(\n",
    "            Equals(curr[\"state\"], Int(1)),\n",
    "            Ite(GE(curr[f\"seq{i}\"],curr[f\"seq{i+1}\"]),\n",
    "                And(\n",
    "                    Equals(prox[f\"seq{i}\"], curr[f\"seq{i+1}\"]),\n",
    "                    Equals(prox[f\"seq{i+1}\"],curr[f\"seq{i}\"]),\n",
    "                    Equals(prox[f\"changed\"], Int(1))\n",
    "                ),\n",
    "                And(\n",
    "                    Equals(prox[f\"seq{i}\"], curr[f\"seq{i}\"]),\n",
    "                    Equals(prox[f\"changed\"], prox[\"changed\"])\n",
    "                )\n",
    "                )\n",
    "            )\n",
    "        cicloFor.append(instrucao)\n",
    "    \n",
    "    incrementaI = Equals(prox[\"i\"], Plus(curr[\"i\"], Int(1)))\n",
    "    \n",
    "    return And(Or(entraNoCicloFor), incrementaI)"
   ]
  },
  {
   "cell_type": "code",
   "execution_count": 58,
   "id": "e4f9f0a4",
   "metadata": {},
   "outputs": [],
   "source": [
    "def pre(sequence):\n",
    "    return And(len(sequence)>=2)\n",
    "\n",
    "def pos(curr,sequence):\n",
    "    return And([curr[\"seq\"+str(i)]<=curr[\"seq\"+str(i+1)] for i in range(len(sequence)-2)])\n",
    "\n",
    "\n",
    "def strongestPostCondition(declare, init, trans, sequence):\n",
    "    s = Solver()\n",
    "    size = len(sequence)\n",
    "    k = size*size\n",
    "\n",
    "    #Pre-Condição\n",
    "    pre_Condition = pre(sequence)\n",
    "\n",
    "    #Gerar o traço\n",
    "    trace = [declare(i, size) for i in range(k)]\n",
    "\n",
    "    #Variavel para fazer as condições logicas do programa\n",
    "    prog = []\n",
    "\n",
    "    #Gerar o primeiro estado\n",
    "    prog.append(And(init(trace[0], sequence)))\n",
    "\n",
    "    #Gerar as condições lógicas do traço\n",
    "    for i in range(k-1):\n",
    "        prog.append(And(trans(trace[i], trace[i+1], size)))\n",
    "\n",
    "    #Pos-Condição\n",
    "    pos_Condition = pos(trace[len(prog)-1], sequence)\n",
    "\n",
    "    \n",
    "    #Formula final do strongest post condition\n",
    "    #Transformar a lista numa sequencia lógica\n",
    "    prog = And(prog)\n",
    "\n",
    "    #Funfção final do SPC\n",
    "    spc = Not(Implies(And(pre_Condition,prog), pos_Condition))\n",
    "\n",
    "    #Adicionar o spc ao solver\n",
    "    s.add(spc)\n",
    "\n",
    "    #Correr\n",
    "    if s.check() == sat:\n",
    "        print(\"Falhou\")\n",
    "    print(\"Provado com sucesso\")"
   ]
  },
  {
   "cell_type": "code",
   "execution_count": 59,
   "id": "1b1268d6",
   "metadata": {},
   "outputs": [
    {
     "ename": "Z3Exception",
     "evalue": "Symbolic expressions cannot be cast to concrete Boolean values.",
     "output_type": "error",
     "traceback": [
      "\u001b[0;31m---------------------------------------------------------------------------\u001b[0m",
      "\u001b[0;31mZ3Exception\u001b[0m                               Traceback (most recent call last)",
      "Cell \u001b[0;32mIn[59], line 2\u001b[0m\n\u001b[1;32m      1\u001b[0m seq \u001b[38;5;241m=\u001b[39m [\u001b[38;5;241m-\u001b[39m\u001b[38;5;241m2\u001b[39m,\u001b[38;5;241m1\u001b[39m,\u001b[38;5;241m2\u001b[39m,\u001b[38;5;241m-\u001b[39m\u001b[38;5;241m1\u001b[39m,\u001b[38;5;241m4\u001b[39m,\u001b[38;5;241m-\u001b[39m\u001b[38;5;241m4\u001b[39m,\u001b[38;5;241m-\u001b[39m\u001b[38;5;241m3\u001b[39m,\u001b[38;5;241m3\u001b[39m]\n\u001b[0;32m----> 2\u001b[0m \u001b[43mstrongestPostCondition\u001b[49m\u001b[43m(\u001b[49m\u001b[43mdeclare\u001b[49m\u001b[43m,\u001b[49m\u001b[43minit\u001b[49m\u001b[43m,\u001b[49m\u001b[43mtrans\u001b[49m\u001b[43m,\u001b[49m\u001b[43mseq\u001b[49m\u001b[43m)\u001b[49m\n",
      "Cell \u001b[0;32mIn[58], line 27\u001b[0m, in \u001b[0;36mstrongestPostCondition\u001b[0;34m(declare, init, trans, sequence)\u001b[0m\n\u001b[1;32m     25\u001b[0m \u001b[38;5;66;03m#Gerar as condições lógicas do traço\u001b[39;00m\n\u001b[1;32m     26\u001b[0m \u001b[38;5;28;01mfor\u001b[39;00m i \u001b[38;5;129;01min\u001b[39;00m \u001b[38;5;28mrange\u001b[39m(k\u001b[38;5;241m-\u001b[39m\u001b[38;5;241m1\u001b[39m):\n\u001b[0;32m---> 27\u001b[0m     prog\u001b[38;5;241m.\u001b[39mappend(And(\u001b[43mtrans\u001b[49m\u001b[43m(\u001b[49m\u001b[43mtrace\u001b[49m\u001b[43m[\u001b[49m\u001b[43mi\u001b[49m\u001b[43m]\u001b[49m\u001b[43m,\u001b[49m\u001b[43m \u001b[49m\u001b[43mtrace\u001b[49m\u001b[43m[\u001b[49m\u001b[43mi\u001b[49m\u001b[38;5;241;43m+\u001b[39;49m\u001b[38;5;241;43m1\u001b[39;49m\u001b[43m]\u001b[49m\u001b[43m,\u001b[49m\u001b[43m \u001b[49m\u001b[43msize\u001b[49m\u001b[43m)\u001b[49m))\n\u001b[1;32m     29\u001b[0m \u001b[38;5;66;03m#Pos-Condição\u001b[39;00m\n\u001b[1;32m     30\u001b[0m pos_Condition \u001b[38;5;241m=\u001b[39m pos(trace[\u001b[38;5;28mlen\u001b[39m(prog)\u001b[38;5;241m-\u001b[39m\u001b[38;5;241m1\u001b[39m], sequence)\n",
      "Cell \u001b[0;32mIn[57], line 32\u001b[0m, in \u001b[0;36mtrans\u001b[0;34m(curr, prox, n)\u001b[0m\n\u001b[1;32m     28\u001b[0m \u001b[38;5;28;01mdef\u001b[39;00m \u001b[38;5;21mtrans\u001b[39m(curr, prox, n):\n\u001b[1;32m     29\u001b[0m     condsTrans \u001b[38;5;241m=\u001b[39m []\n\u001b[0;32m---> 32\u001b[0m     entraNoCicloFor \u001b[38;5;241m=\u001b[39m \u001b[43mIte\u001b[49m\u001b[43m(\u001b[49m\u001b[43mNot\u001b[49m\u001b[43m(\u001b[49m\u001b[43mEquals\u001b[49m\u001b[43m(\u001b[49m\u001b[43mcurr\u001b[49m\u001b[43m[\u001b[49m\u001b[38;5;124;43m\"\u001b[39;49m\u001b[38;5;124;43mchanged\u001b[39;49m\u001b[38;5;124;43m\"\u001b[39;49m\u001b[43m]\u001b[49m\u001b[43m,\u001b[49m\u001b[43m \u001b[49m\u001b[43mInt\u001b[49m\u001b[43m(\u001b[49m\u001b[38;5;241;43m0\u001b[39;49m\u001b[43m)\u001b[49m\u001b[43m)\u001b[49m\u001b[43m)\u001b[49m\n\u001b[1;32m     33\u001b[0m \u001b[43m                        \u001b[49m\u001b[43m,\u001b[49m\n\u001b[1;32m     34\u001b[0m \u001b[43m                        \u001b[49m\u001b[43mconstEntra\u001b[49m\u001b[43m(\u001b[49m\u001b[43mcurr\u001b[49m\u001b[43m,\u001b[49m\u001b[43mprox\u001b[49m\u001b[43m,\u001b[49m\u001b[43mn\u001b[49m\u001b[43m)\u001b[49m\u001b[43m,\u001b[49m\u001b[43m \u001b[49m\u001b[38;5;66;43;03m#entra no ciclo\u001b[39;49;00m\n\u001b[1;32m     35\u001b[0m \u001b[43m                        \u001b[49m\u001b[43mconst\u001b[49m\u001b[43m(\u001b[49m\u001b[43mcurr\u001b[49m\u001b[43m,\u001b[49m\u001b[43mprox\u001b[49m\u001b[43m,\u001b[49m\u001b[43mn\u001b[49m\u001b[43m)\u001b[49m\u001b[43m \u001b[49m\u001b[38;5;66;43;03m#morre\u001b[39;49;00m\n\u001b[1;32m     36\u001b[0m \u001b[43m                        \u001b[49m\u001b[43m)\u001b[49m\n\u001b[1;32m     37\u001b[0m     cicloFor \u001b[38;5;241m=\u001b[39m []\n\u001b[1;32m     38\u001b[0m     \u001b[38;5;28;01mfor\u001b[39;00m i \u001b[38;5;129;01min\u001b[39;00m \u001b[38;5;28mrange\u001b[39m(n\u001b[38;5;241m-\u001b[39m\u001b[38;5;241m2\u001b[39m):\n",
      "Cell \u001b[0;32mIn[57], line 5\u001b[0m, in \u001b[0;36mIte\u001b[0;34m(cond, l, r)\u001b[0m\n\u001b[1;32m      4\u001b[0m \u001b[38;5;28;01mdef\u001b[39;00m \u001b[38;5;21mIte\u001b[39m(cond, l, r):\n\u001b[0;32m----> 5\u001b[0m     \u001b[38;5;28;01mif\u001b[39;00m (cond):\n\u001b[1;32m      6\u001b[0m         \u001b[38;5;28;01mreturn\u001b[39;00m l\n\u001b[1;32m      7\u001b[0m     \u001b[38;5;28;01melse\u001b[39;00m:\n",
      "File \u001b[0;32m~/opt/anaconda3/envs/Py310/lib/python3.10/site-packages/z3/z3.py:381\u001b[0m, in \u001b[0;36mAstRef.__bool__\u001b[0;34m(self)\u001b[0m\n\u001b[1;32m    379\u001b[0m     \u001b[38;5;28;01mreturn\u001b[39;00m \u001b[38;5;28mself\u001b[39m\u001b[38;5;241m.\u001b[39marg(\u001b[38;5;241m0\u001b[39m)\u001b[38;5;241m.\u001b[39meq(\u001b[38;5;28mself\u001b[39m\u001b[38;5;241m.\u001b[39marg(\u001b[38;5;241m1\u001b[39m))\n\u001b[1;32m    380\u001b[0m \u001b[38;5;28;01melse\u001b[39;00m:\n\u001b[0;32m--> 381\u001b[0m     \u001b[38;5;28;01mraise\u001b[39;00m Z3Exception(\u001b[38;5;124m\"\u001b[39m\u001b[38;5;124mSymbolic expressions cannot be cast to concrete Boolean values.\u001b[39m\u001b[38;5;124m\"\u001b[39m)\n",
      "\u001b[0;31mZ3Exception\u001b[0m: Symbolic expressions cannot be cast to concrete Boolean values."
     ]
    }
   ],
   "source": [
    "seq = [-2,1,2,-1,4,-4,-3,3]\n",
    "strongestPostCondition(declare,init,trans,seq)"
   ]
  }
 ],
 "metadata": {
  "kernelspec": {
   "display_name": "Python 3 (ipykernel)",
   "language": "python",
   "name": "python3"
  },
  "language_info": {
   "codemirror_mode": {
    "name": "ipython",
    "version": 3
   },
   "file_extension": ".py",
   "mimetype": "text/x-python",
   "name": "python",
   "nbconvert_exporter": "python",
   "pygments_lexer": "ipython3",
   "version": "3.10.8"
  },
  "vscode": {
   "interpreter": {
    "hash": "50df95f242c480e55ce90ba92045ce0f86d2342b66ab0fc536312d684bc5094a"
   }
  }
 },
 "nbformat": 4,
 "nbformat_minor": 5
}
