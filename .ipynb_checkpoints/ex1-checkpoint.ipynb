{
 "cells": [
  {
   "cell_type": "markdown",
   "metadata": {},
   "source": [
    "\n",
    "TP1\n",
    "> O propósito deste trabalho é a análise de problemas de alocação usando técnicas de SAT,  em lógica proposicional, e IP em lógica linear inteira.\n",
    "\n",
    "\n",
    "1. Pretende-se construir um horário semanal para o plano de reuniões de projeto de uma “StartUp” de acordo com as seguintes condições:\n",
    "    1. Cada reunião ocupa uma sala (enumeradas $$1...S\\,$$) durante um “slot”  $$1..T\\,$$ $$(\\text{hora},\\text{dia})$$.  \n",
    "    2.  Cada reunião tem associado um projeto (enumerados $$1..P$$) e um conjunto de participantes. Os diferentes colaboradores são enumerados $$1..C$$.\n",
    "    3. Cada projeto tem associado um conjunto de colaboradores, dos quais um  é o líder. Cada projeto realiza um dado número de reuniões semanais. \n",
    "    4. O líder do projeto participa em todas as reuniões do seu projeto; os restantes colaboradores podem ou não participar consoante a sua disponibilidade, num mínimo (“quorum”) de  $$50\\%$$ do total de colaboradores do projeto. \n",
    "    São “inputs” do problema:\n",
    "        1. Os parâmetros $$S\\,,\\,T\\,,\\,P\\,,\\,C$$\n",
    "        2. O conjunto de colaboradores de cada projeto, o seu líder e o número mínimo  de reuniões semanais.\n",
    "        3. A disponibilidade de cada participante, incluindo o lider. Essa disponibilidade   é um conjunto de “slots”  representada numa matriz booleana de acessibilidade com uma linha por cada participante $$1..C$$ e uma coluna por “slot” $$\\,1..T\\,$$\n",
    "    São critérios de optimização:\n",
    "        1. Maximizar o número de reuniões efetivamente realizadas\n",
    "        2. Minimizar o número médio de reuniões por participante."
   ]
  },
  {
   "cell_type": "code",
   "execution_count": 275,
   "metadata": {},
   "outputs": [],
   "source": [
    "from ortools.linear_solver import pywraplp\n",
    "horario = pywraplp.Solver.CreateSolver(\"SCIP\")\n",
    "S, T, C, P = 1, (8,5), 2, 1\n",
    "#3 salas, 8 slots p/dia 5 dias p/semana , 10 colaboradores, 5 projetos\n",
    "colabPerProject = {0:[0,1]}\n",
    "projectLeaders = {0:1}  \n",
    "meetings = {0:2}\n",
    "\n",
    "maxMeets = horario.IntVar(0,sum(meetings[x] for x in meetings), \"maxMeetings\") #variavel para maximizar o numero de reuniões por semana\n",
    "\n",
    "#inicialização da matriz\n",
    "x = {}\n",
    "for s in range(S):\n",
    "    x[s]={}\n",
    "    for d in range(T[1]):\n",
    "        x[s][d]={}\n",
    "        for h in range(T[0]):\n",
    "            x[s][d][h]={}\n",
    "            for p in range(P):\n",
    "                x[s][d][h][p] = horario.BoolVar(f\"x[{s}][{d}][{h}][{p}]\")\n",
    "        \n",
    "y = {}\n",
    "for c in range(C):\n",
    "    y[c]={}\n",
    "    for d in range(T[1]):\n",
    "        y[c][d]={}\n",
    "        for h in range(T[0]):\n",
    "            y[c][d][h]={}\n",
    "            for p in range(P):\n",
    "                y[c][d][h][p]=horario.BoolVar(f\"y[{c}][{d}][{h}][{p}]\")"
   ]
  },
  {
   "cell_type": "markdown",
   "metadata": {},
   "source": [
    "Passamos agora à modelação das restrições e à sua introdução no *solver*.\n",
    "\n",
    "A restrição:\n",
    "\n",
    "1. O quorum por reunião é igual ou superior a 50%\n",
    "\n",
    "$$\n",
    "\\forall d<D\\;\\forall h<H\\;\\forall s<S\\;\\forall p<P\\;\\sum_{c<C} x_{d,h,s,p,c} \\geq len(colabsPerProject[p])\n",
    "$$\n"
   ]
  },
  {
   "cell_type": "code",
   "execution_count": 276,
   "metadata": {},
   "outputs": [],
   "source": [
    "for d in range(T[1]):\n",
    "    for p in range(P):\n",
    "        for h in range(T[0]):\n",
    "            horario.Add(sum(y[c][d][h][p] for c in range(C))>=0.5*len(colabPerProject[p]))       "
   ]
  },
  {
   "cell_type": "markdown",
   "metadata": {},
   "source": [
    "A restrição:\n",
    "\n",
    "2. Verificar que o número mínimo de reuniões semanais é satisfeito."
   ]
  },
  {
   "cell_type": "code",
   "execution_count": 277,
   "metadata": {},
   "outputs": [],
   "source": [
    "#verificar que o número mínimo de reuniões semanais é satisfeito\n",
    "for projeto in range(P):\n",
    "    horario.Add(sum([x[s][d][h][projeto] for s in range(S) for d in range(T[1]) for h in range(T[0])])>=meetings[projeto])"
   ]
  },
  {
   "cell_type": "markdown",
   "metadata": {},
   "source": [
    "A restrição:\n",
    "\n",
    "3. Verificar que o líder participa em todas as reuniões\n",
    "\n",
    "$$\n",
    "\\forall d<D\\;\\forall h<H\\;\\forall s<S\\;\\forall p<P\\;\\sum_{c<C} x_{d,h,s,p,c} \\geq len(colabsPerProject[p])\n",
    "$$\n"
   ]
  },
  {
   "cell_type": "code",
   "execution_count": 278,
   "metadata": {},
   "outputs": [],
   "source": [
    "#verificar que o lider participa em todas as reuniões\n",
    "for d in range(T[1]):\n",
    "    for p in range(P):\n",
    "        for h in range(T[0]):\n",
    "            lider = projectLeaders[p]\n",
    "            horario.Add(sum([x[s][d][h][p]])==y[lider][d][h][p])"
   ]
  },
  {
   "cell_type": "markdown",
   "metadata": {},
   "source": [
    "A restrição:\n",
    "\n",
    "4. Cada sala só é utilizada para uma reunião de cada vez\n",
    "\n"
   ]
  },
  {
   "cell_type": "code",
   "execution_count": 279,
   "metadata": {},
   "outputs": [],
   "source": [
    "for s in range(S):\n",
    "    for d in range(T[1]):\n",
    "        for h in range(T[0]):\n",
    "            horario.Add(sum([x[s][d][h][p] for p in range(P)])>=1)"
   ]
  },
  {
   "cell_type": "markdown",
   "metadata": {},
   "source": [
    "A restrição:\n",
    "\n",
    "5. Verificar que o só existe um projeto alocado a cada colaborador de cada vez\n",
    "\n",
    "\n"
   ]
  },
  {
   "cell_type": "code",
   "execution_count": 280,
   "metadata": {},
   "outputs": [],
   "source": [
    "for c in range(C):\n",
    "    for d in range(T[1]):\n",
    "        for h in range(T[0]):\n",
    "            horario.Add(sum([y[c][d][h][p] for p in range(P)])<=1)"
   ]
  },
  {
   "cell_type": "markdown",
   "metadata": {},
   "source": [
    "A restrição:\n",
    "\n",
    "6. Verificar que os projetos alocados a cada colaborador são os originalmente selecionados\n",
    "\n"
   ]
  },
  {
   "cell_type": "code",
   "execution_count": 281,
   "metadata": {},
   "outputs": [],
   "source": [
    "for c in range(C):\n",
    "    for d in range(T[1]):\n",
    "        for h in range(T[0]):\n",
    "            for p in range(P):\n",
    "                if c not in colabPerProject[p]:\n",
    "                    solver.Add(y[c][d][t][p]==0)\n",
    "                    "
   ]
  },
  {
   "cell_type": "markdown",
   "metadata": {},
   "source": [
    "*Maximizar* o número de reuniões realizadas por projeto\n"
   ]
  },
  {
   "cell_type": "code",
   "execution_count": 282,
   "metadata": {},
   "outputs": [],
   "source": [
    "horario.Maximize(sum(x[s][d][h][p] for s in range(S) for d in range(T[1]) for h in range(T[0]) for p in range(P)))"
   ]
  },
  {
   "cell_type": "markdown",
   "metadata": {},
   "source": [
    "Minimizar o número médio de reuniões semanais por colaborador"
   ]
  },
  {
   "cell_type": "code",
   "execution_count": 283,
   "metadata": {},
   "outputs": [],
   "source": [
    "horario.Minimize(sum(y[c][d][h][p] for c in range(C) for d in range(T[1]) for h in range(T[0]) for p in range(P))/C)"
   ]
  },
  {
   "cell_type": "markdown",
   "metadata": {},
   "source": [
    "Solução do Problema"
   ]
  },
  {
   "cell_type": "code",
   "execution_count": 284,
   "metadata": {},
   "outputs": [
    {
     "name": "stdout",
     "output_type": "stream",
     "text": [
      "Solução encontrada\n"
     ]
    }
   ],
   "source": [
    "status = horario.Solve()\n",
    "if status== pywraplp.Solver.OPTIMAL:\n",
    "    print(\"Solução encontrada\")\n",
    "else:\n",
    "    print(\"Não foi encontrada solução\")"
   ]
  }
 ],
 "metadata": {
  "kernelspec": {
   "display_name": "Python 3 (ipykernel)",
   "language": "python",
   "name": "python3"
  },
  "language_info": {
   "codemirror_mode": {
    "name": "ipython",
    "version": 3
   },
   "file_extension": ".py",
   "mimetype": "text/x-python",
   "name": "python",
   "nbconvert_exporter": "python",
   "pygments_lexer": "ipython3",
   "version": "3.9.12"
  },
  "vscode": {
   "interpreter": {
    "hash": "b0fa6594d8f4cbf19f97940f81e996739fb7646882a419484c72d19e05852a7e"
   }
  }
 },
 "nbformat": 4,
 "nbformat_minor": 2
}
